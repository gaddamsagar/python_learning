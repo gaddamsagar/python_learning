{
 "cells": [
  {
   "cell_type": "code",
   "execution_count": 3,
   "metadata": {
    "collapsed": false
   },
   "outputs": [
    {
     "name": "stdout",
     "output_type": "stream",
     "text": [
      "This program will check if the string2 is a substring of string1 or not\n",
      "enter string1: sagar gaddam\n",
      "enter string2: gaddam\n",
      "string2 is a substring of string1\n"
     ]
    }
   ],
   "source": [
    "#2.write a program to chek given substring is there in actual string or not? (search should be case insensitive)\n",
    "print \"This program will check if the string2 is a substring of string1 or not\"\n",
    "string1 = raw_input(\"enter string1: \")\n",
    "string2 = raw_input(\"enter string2: \")\n",
    "\n",
    "if string2 in string1:\n",
    "    print \"string2 is a substring of string1\"\n",
    "else:\n",
    "    print \"string2 is not a substring of string1\""
   ]
  },
  {
   "cell_type": "code",
   "execution_count": 4,
   "metadata": {
    "collapsed": false
   },
   "outputs": [
    {
     "name": "stdout",
     "output_type": "stream",
     "text": [
      "enter a number : 4\n",
      "even\n"
     ]
    }
   ],
   "source": [
    "#3.take a number from the user and check whether even or odd\n",
    "num1 = input(\"enter a number : \")\n",
    "if num1%2 == 0:\n",
    "    print \"even\"\n",
    "else:\n",
    "    print \"odd\""
   ]
  },
  {
   "cell_type": "code",
   "execution_count": 5,
   "metadata": {
    "collapsed": false
   },
   "outputs": [
    {
     "name": "stdout",
     "output_type": "stream",
     "text": [
      "enter a number : 5\n",
      "odd\n"
     ]
    }
   ],
   "source": [
    "#3.take a number from the user and check whether even or odd\n",
    "num1 = input(\"enter a number : \")\n",
    "if num1%2 == 0:\n",
    "    print \"even\"\n",
    "else:\n",
    "    print \"odd\""
   ]
  },
  {
   "cell_type": "code",
   "execution_count": 8,
   "metadata": {
    "collapsed": false
   },
   "outputs": [
    {
     "name": "stdout",
     "output_type": "stream",
     "text": [
      "enter a number: 33\n",
      "33 is NOT a prime number\n"
     ]
    }
   ],
   "source": [
    "#4take a number from the user and check whether it is prime\n",
    "a = input(\"enter a number: \")\n",
    "for i in range(2,a):\n",
    "    if a%i == 0:\n",
    "        print a, \"is NOT a prime number\"\n",
    "        break\n",
    "else:\n",
    "        print a, \"is a prime number\""
   ]
  },
  {
   "cell_type": "code",
   "execution_count": 1,
   "metadata": {
    "collapsed": false
   },
   "outputs": [
    {
     "name": "stdout",
     "output_type": "stream",
     "text": [
      "1. windows\n",
      "2. Linux\n",
      "3. Mac\n",
      "4. quit\n",
      "select an OS from the above list(enter numbers): 5\n",
      "invalid selection, try again\n",
      "select an OS from the above list(enter numbers): 6\n",
      "invalid selection, try again\n",
      "select an OS from the above list(enter numbers): 1\n",
      "you have selected Windows \n",
      "select an OS from the above list(enter numbers): 2\n",
      "you have selected  Linux\n",
      "select an OS from the above list(enter numbers): 3\n",
      "you have selected Mac\n",
      "select an OS from the above list(enter numbers): 4\n"
     ]
    }
   ],
   "source": [
    "#10Show the below menu to the user until and until user select quit and display corresponding os message\n",
    "print \"1. windows\\n2. Linux\\n3. Mac\\n4. quit\"\n",
    "while True:\n",
    "    selection = raw_input(\"select an OS from the above list(enter numbers): \")\n",
    "    if selection == \"1\":\n",
    "        print \"you have selected Windows \"\n",
    "    elif selection == \"2\":\n",
    "        print \"you have selected  Linux\"\n",
    "    elif selection == \"3\":\n",
    "        print \"you have selected Mac\"\n",
    "    elif selection == \"4\":\n",
    "        break\n",
    "    else:\n",
    "        print \"invalid selection, try again\""
   ]
  },
  {
   "cell_type": "code",
   "execution_count": 10,
   "metadata": {
    "collapsed": false
   },
   "outputs": [
    {
     "name": "stdout",
     "output_type": "stream",
     "text": [
      "enter total number of people: 110\n",
      "enter total number of buses: 3\n",
      "enter number of seats in each bus: 25\n",
      "need 2 more buses for 35 people\n"
     ]
    }
   ],
   "source": [
    "#16. Take the input from the user for(Total number of people, toatl number of busses, Number of seats for bus). \n",
    "#    Based on the input Deside whether there is sufficient busses or not and give solution for how many \n",
    "#    extra busses required.\n",
    "import math\n",
    "people = input(\"enter total number of people: \")\n",
    "buses = input(\"enter total number of buses: \")\n",
    "seats = input(\"enter number of seats in each bus: \")\n",
    "extra_p,extra_b = 0,0\n",
    "if people < (buses * seats):\n",
    "    print \"no extra buses are required\"\n",
    "else:\n",
    "    #print \"extra buses required\"\n",
    "    extra_p = people - (buses*seats)\n",
    "    extra_b = float(extra_p)/seats\n",
    "    print \"need {0} more buses for {1} people\".format(int(math.ceil(extra_b)),extra_p)"
   ]
  },
  {
   "cell_type": "code",
   "execution_count": 18,
   "metadata": {
    "collapsed": false
   },
   "outputs": [
    {
     "name": "stdout",
     "output_type": "stream",
     "text": [
      "1\n",
      "3\n",
      "5\n",
      "7\n",
      "9\n",
      "11\n",
      "13\n",
      "15\n",
      "17\n",
      "19\n",
      "21\n",
      "23\n",
      "25\n",
      "27\n",
      "29\n",
      "31\n",
      "33\n",
      "35\n",
      "37\n",
      "39\n",
      "41\n",
      "43\n",
      "45\n",
      "47\n",
      "49\n",
      "51\n",
      "53\n",
      "55\n",
      "57\n",
      "59\n",
      "61\n",
      "63\n",
      "65\n",
      "67\n",
      "69\n",
      "71\n",
      "73\n",
      "75\n",
      "77\n",
      "79\n",
      "81\n",
      "83\n",
      "85\n",
      "87\n",
      "89\n",
      "91\n",
      "93\n",
      "95\n",
      "97\n",
      "99\n",
      "101\n",
      "103\n",
      "105\n",
      "107\n",
      "109\n",
      "111\n",
      "113\n",
      "115\n",
      "117\n",
      "119\n",
      "121\n",
      "123\n",
      "125\n",
      "127\n",
      "129\n",
      "131\n",
      "133\n",
      "135\n",
      "137\n",
      "139\n",
      "141\n",
      "143\n",
      "145\n",
      "147\n",
      "149\n",
      "151\n",
      "153\n",
      "155\n",
      "157\n",
      "159\n",
      "161\n",
      "163\n",
      "165\n",
      "167\n",
      "169\n",
      "171\n",
      "173\n",
      "175\n",
      "177\n",
      "179\n",
      "181\n",
      "183\n",
      "185\n",
      "187\n",
      "189\n",
      "191\n",
      "193\n",
      "195\n",
      "197\n",
      "199\n"
     ]
    }
   ],
   "source": [
    "#17. Print the first 100 odd numbers\n",
    "j=0\n",
    "toprint = 100\n",
    "for i in range(500):\n",
    "    if (i%2)==1:\n",
    "        print i\n",
    "        #print j\n",
    "        j+=1\n",
    "        if j >= toprint:\n",
    "            break"
   ]
  },
  {
   "cell_type": "code",
   "execution_count": 1,
   "metadata": {
    "collapsed": false
   },
   "outputs": [
    {
     "name": "stdout",
     "output_type": "stream",
     "text": [
      "enter a number to print its factors: a\n",
      "enter numbers only, try again\n",
      "enter a number to print its factors: 12\n",
      "1\n",
      "2\n",
      "3\n",
      "4\n",
      "6\n",
      "12\n"
     ]
    }
   ],
   "source": [
    "#18. Determine the factors of a number entered  by the user\n",
    "while True:\n",
    "    try:\n",
    "        num = input(\"enter a number to print its factors: \")\n",
    "        for i in range(num):\n",
    "            if num%(i+1) == 0:\n",
    "                print i+1\n",
    "        break\n",
    "    except NameError:\n",
    "        print \"enter numbers only, try again\""
   ]
  },
  {
   "cell_type": "code",
   "execution_count": 4,
   "metadata": {
    "collapsed": false
   },
   "outputs": [
    {
     "name": "stdout",
     "output_type": "stream",
     "text": [
      "enter a number b/w 0 to 100 or x to quit: 24\n",
      "Lesser\n",
      "enter a number b/w 0 to 100 or x to quit: 59\n",
      "Higher\n",
      "enter a number b/w 0 to 100 or x to quit: 40\n",
      "Higher\n",
      "enter a number b/w 0 to 100 or x to quit: 35\n",
      "Higher\n",
      "enter a number b/w 0 to 100 or x to quit: 30\n",
      "Higher\n",
      "enter a number b/w 0 to 100 or x to quit: 27\n",
      "Lesser\n",
      "enter a number b/w 0 to 100 or x to quit: 28\n",
      "Lesser\n",
      "enter a number b/w 0 to 100 or x to quit: 29\n",
      "YES, your guess is correct\n"
     ]
    }
   ],
   "source": [
    "#19. Play a number guessing game (User enters a guess, you print YES or Higher or Lower)\n",
    "import random\n",
    "num = random.randrange(100)\n",
    "while True:\n",
    "    num1 = raw_input(\"enter a number b/w 0 to 100 or x to quit: \")\n",
    "    if num1 == \"x\":\n",
    "        print \"You had to guess \",num\n",
    "        break\n",
    "    elif int(num1)<num:\n",
    "        print \"Lesser\"\n",
    "    elif int(num1)==num:\n",
    "        print \"YES, your guess is correct\"\n",
    "        break\n",
    "    elif int(num1) > num:\n",
    "        print \"Higher\"\n",
    "        "
   ]
  },
  {
   "cell_type": "code",
   "execution_count": 7,
   "metadata": {
    "collapsed": false
   },
   "outputs": [
    {
     "name": "stdout",
     "output_type": "stream",
     "text": [
      "enter first number: 5\n",
      "enter second number(other than zero): 2\n",
      "5 is not divisble by 2\n"
     ]
    }
   ],
   "source": [
    "#20. Take two numbers from the user a,b check whether a is divisible by b or not?\n",
    "num1 = input(\"enter first number: \")\n",
    "num2 = input(\"enter second number(other than zero): \")\n",
    "if num1%num2 == 0:\n",
    "    print \"{0} is divisble by {1}\".format(num1,num2)\n",
    "else:\n",
    "    print \"{0} is not divisble by {1}\".format(num1,num2)"
   ]
  },
  {
   "cell_type": "code",
   "execution_count": 8,
   "metadata": {
    "collapsed": false
   },
   "outputs": [
    {
     "name": "stdout",
     "output_type": "stream",
     "text": [
      "enter first number: 16\n",
      "enter second number(other than zero): 4\n",
      "16 is divisble by 4\n"
     ]
    }
   ],
   "source": [
    "#20. Take two numbers from the user a,b check whether a is divisible by b or not?\n",
    "num1 = input(\"enter first number: \")\n",
    "num2 = input(\"enter second number(other than zero): \")\n",
    "if num1%num2 == 0:\n",
    "    print \"{0} is divisble by {1}\".format(num1,num2)\n",
    "else:\n",
    "    print \"{0} is not divisble by {1}\".format(num1,num2)"
   ]
  },
  {
   "cell_type": "code",
   "execution_count": 1,
   "metadata": {
    "collapsed": false
   },
   "outputs": [
    {
     "name": "stdout",
     "output_type": "stream",
     "text": [
      "enter the persons age in years to check his stage or x to exit :0.5\n",
      "baby\n",
      "enter the persons age in years to check his stage or x to exit :1\n",
      "toddler\n",
      "enter the persons age in years to check his stage or x to exit :2.5\n",
      "child\n",
      "enter the persons age in years to check his stage or x to exit :12\n",
      "child\n",
      "enter the persons age in years to check his stage or x to exit :13\n",
      "Teenager\n",
      "enter the persons age in years to check his stage or x to exit :18\n",
      "Adult\n",
      "enter the persons age in years to check his stage or x to exit :58\n",
      "Adult\n",
      "enter the persons age in years to check his stage or x to exit :60\n",
      "old codger\n",
      "enter the persons age in years to check his stage or x to exit :99\n",
      "old codger\n",
      "enter the persons age in years to check his stage or x to exit :x\n"
     ]
    }
   ],
   "source": [
    "#21. Given an age, figure out whether someone's a baby(0-1), toddler(1-2), child(2-12), teenager(13-17), adult(18-59) or old codger(60)\n",
    "while True:\n",
    "    age = raw_input(\"enter the persons age in years to check his stage or x to exit :\")\n",
    "    if age == \"x\":\n",
    "        break\n",
    "    elif float(age) <1:\n",
    "        print \"baby\"\n",
    "    elif float(age) <2.1:\n",
    "        print \"toddler\"\n",
    "    elif float(age) <13:\n",
    "        print \"child\"\n",
    "    elif float(age) <18:\n",
    "        print \"Teenager\"\n",
    "    elif float(age) <60:\n",
    "        print \"Adult\"\n",
    "    elif float(age) <200:\n",
    "        print \"old codger\""
   ]
  },
  {
   "cell_type": "code",
   "execution_count": 5,
   "metadata": {
    "collapsed": false
   },
   "outputs": [
    {
     "name": "stdout",
     "output_type": "stream",
     "text": [
      "sum of all multiples of 3 below 1000 is :  166833\n"
     ]
    }
   ],
   "source": [
    "#22. Find the sum of all the multiples of 3 or 5 below 1000\n",
    "j = 0\n",
    "for i in range(3,1000):\n",
    "    if i%3 == 0:\n",
    "        j += i\n",
    "print \"sum of all multiples of 3 below 1000 is : \",j"
   ]
  },
  {
   "cell_type": "code",
   "execution_count": 7,
   "metadata": {
    "collapsed": false
   },
   "outputs": [
    {
     "name": "stdout",
     "output_type": "stream",
     "text": [
      "enter first number : 5\n",
      "enter second number: 8\n",
      "8 is greater than 5\n"
     ]
    }
   ],
   "source": [
    "#23. Write a program to findout big of two numbers\n",
    "num1 = input(\"enter first number : \")\n",
    "num2 = input(\"enter second number: \")\n",
    "if num1 == num2:\n",
    "    print \"both are equal\"\n",
    "elif num1 > num2:\n",
    "    print \"{0} is greater than {1}\".format(num1,num2)\n",
    "else:\n",
    "    print \"{1} is greater than {0}\".format(num1,num2)"
   ]
  },
  {
   "cell_type": "code",
   "execution_count": 10,
   "metadata": {
    "collapsed": false
   },
   "outputs": [
    {
     "name": "stdout",
     "output_type": "stream",
     "text": [
      "enter numbers into list one by one: 23\n",
      "enter numbers into list one by one: 65\n",
      "enter numbers into list one by one: 23\n",
      "enter numbers into list one by one: 87\n",
      "enter numbers into list one by one: 78\n",
      "enter numbers into list one by one: 45\n",
      "enter numbers into list one by one: 34\n",
      "enter numbers into list one by one: 76\n",
      "enter numbers into list one by one: \n",
      "[23, 65, 23, 87, 78, 45, 34, 76]\n",
      "biggest number of the list is 87\n"
     ]
    }
   ],
   "source": [
    "#24. Write a program to findout biggest number in the given numbers.\n",
    "s= [1,2,5,7,89,9]\n",
    "list1=[]\n",
    "while True:\n",
    "    x = raw_input(\"enter numbers into list one by one: \")\n",
    "    if x == \"\":\n",
    "        break\n",
    "    else:\n",
    "        list1.append(int(x))\n",
    "print list1\n",
    "for i in range(len(list1)-1,0,-1):\n",
    "    for j in range(i):\n",
    "        if list1[j]>list1[j+1]:\n",
    "            m = list1[j]\n",
    "            list1[j] = list1[j+1]\n",
    "            list1[j+1]=m\n",
    "\n",
    "print \"biggest number of the list is {0}\".format(list1[len(list1)-1])"
   ]
  },
  {
   "cell_type": "code",
   "execution_count": 28,
   "metadata": {
    "collapsed": false
   },
   "outputs": [
    {
     "name": "stdout",
     "output_type": "stream",
     "text": [
      "enter the actual string: Masthan Muppaneni Masthan Mupaneni Masthan\n",
      "enter the substring to find: Masthan\n",
      "third occurance of 'Masthan' occured at index 35 in 'Masthan Muppaneni Masthan Mupaneni Masthan'\n"
     ]
    }
   ],
   "source": [
    "#25. findout third occurance of given substring\n",
    "x=0\n",
    "string1 = \"sagar gaddam\"\n",
    "string1 = raw_input(\"enter the actual string: \")\n",
    "substring = raw_input(\"enter the substring to find: \")\n",
    "for i in range(len(string1)):\n",
    "\tif string1[i:i+len(substring)]==substring:\n",
    "\t\tx+=1\n",
    "\t\tif x==3:\n",
    "\t\t\tprint \"third occurance of '{1}' occured at index {0} in '{2}'\".format(i,substring,string1)\n",
    "\t\t\tbreak\n",
    "\t\telse:\n",
    "\t\t\tcontinue\n",
    "else:\n",
    "    print \"'{2}' did not occur 3 times and occured {0} times in {1}\".format(x,string1,substring)"
   ]
  },
  {
   "cell_type": "code",
   "execution_count": 32,
   "metadata": {
    "collapsed": false
   },
   "outputs": [
    {
     "name": "stdout",
     "output_type": "stream",
     "text": [
      "enter the actual string: gaddam sagar gaddam sagar gaddam\n",
      "enter the substring to find: gad\n",
      "enter a number to find substring's occurence in actual string: 4\n",
      "'gad' did not occur 4 times and occured 3 times in gaddam sagar gaddam sagar gaddam\n"
     ]
    }
   ],
   "source": [
    "#26. findout nth occurance of given substring\n",
    "x=0\n",
    "string1 = \"sagar gaddam\"\n",
    "string1 = raw_input(\"enter the actual string: \")\n",
    "substring = raw_input(\"enter the substring to find: \")\n",
    "occurence = input(\"enter a number to find substring's occurence in actual string: \")\n",
    "for i in range(len(string1)):\n",
    "\tif string1[i:i+len(substring)]==substring:\n",
    "\t\tx+=1\n",
    "\t\tif x==occurence:\n",
    "\t\t\tprint \"{3} occurance of '{1}' occured at index {0} in '{2}'\".format(i,substring,string1,occurence)\n",
    "\t\t\tbreak\n",
    "\t\telse:\n",
    "\t\t\tcontinue\n",
    "else:\n",
    "    print \"'{2}' did not occur {3} times and occured {0} times in {1}\".format(x,string1,substring,occurence)"
   ]
  },
  {
   "cell_type": "code",
   "execution_count": 33,
   "metadata": {
    "collapsed": false
   },
   "outputs": [
    {
     "name": "stdout",
     "output_type": "stream",
     "text": [
      "enter the actual string: gaddam sagar gaddam sagar gaddam\n",
      "enter the substring to find: gad\n",
      "enter a number to find substring's occurence in actual string: 2\n",
      "2 occurance of 'gad' occured at index 13 in 'gaddam sagar gaddam sagar gaddam'\n"
     ]
    }
   ],
   "source": [
    "#26. findout nth occurance of given substring\n",
    "x=0\n",
    "string1 = \"sagar gaddam\"\n",
    "string1 = raw_input(\"enter the actual string: \")\n",
    "substring = raw_input(\"enter the substring to find: \")\n",
    "occurence = input(\"enter a number to find substring's occurence in actual string: \")\n",
    "for i in range(len(string1)):\n",
    "\tif string1[i:i+len(substring)]==substring:\n",
    "\t\tx+=1\n",
    "\t\tif x==occurence:\n",
    "\t\t\tprint \"{3} occurance of '{1}' occured at index {0} in '{2}'\".format(i,substring,string1,occurence)\n",
    "\t\t\tbreak\n",
    "\t\telse:\n",
    "\t\t\tcontinue\n",
    "else:\n",
    "    print \"'{2}' did not occur {3} times and occured {0} times in {1}\".format(x,string1,substring,occurence)"
   ]
  },
  {
   "cell_type": "code",
   "execution_count": 34,
   "metadata": {
    "collapsed": false
   },
   "outputs": [
    {
     "name": "stdout",
     "output_type": "stream",
     "text": [
      "enter the actual string: sagar gaddam\n",
      "enter the substring to find: a\n",
      "enter a number to find substring's occurence in actual string: 2\n",
      "2 occurance of 'a' occured at index 3 in 'sagar gaddam'\n"
     ]
    }
   ],
   "source": [
    "#26. findout nth occurance of given substring\n",
    "x=0\n",
    "string1 = \"sagar gaddam\"\n",
    "string1 = raw_input(\"enter the actual string: \")\n",
    "substring = raw_input(\"enter the substring to find: \")\n",
    "occurence = input(\"enter a number to find substring's occurence in actual string: \")\n",
    "for i in range(len(string1)):\n",
    "\tif string1[i:i+len(substring)]==substring:\n",
    "\t\tx+=1\n",
    "\t\tif x==occurence:\n",
    "\t\t\tprint \"{3} occurance of '{1}' occured at index {0} in '{2}'\".format(i,substring,string1,occurence)\n",
    "\t\t\tbreak\n",
    "\t\telse:\n",
    "\t\t\tcontinue\n",
    "else:\n",
    "    print \"'{2}' did not occur {3} times and occured {0} times in {1}\".format(x,string1,substring,occurence)"
   ]
  },
  {
   "cell_type": "code",
   "execution_count": 40,
   "metadata": {
    "collapsed": false
   },
   "outputs": [
    {
     "name": "stdout",
     "output_type": "stream",
     "text": [
      "enter numbers into list one by one: 2\n",
      "enter numbers into list one by one: 6\n",
      "enter numbers into list one by one: 34\n",
      "enter single digits only, try again\n",
      "enter numbers into list one by one: 4\n",
      "enter numbers into list one by one: 8\n",
      "enter numbers into list one by one: 5\n",
      "enter numbers into list one by one: 9\n",
      "enter numbers into list one by one: 1\n",
      "enter numbers into list one by one: \n",
      "[2, 6, 4, 8, 5, 9, 1]\n",
      "min number of the list is 1\n",
      "max number of the list is 9\n",
      "sum of the entered numbers is 35\n",
      "average of the entered numbers is 5.00\n"
     ]
    }
   ],
   "source": [
    "#27. Taake some single digit numbers from the user and findout min, maximum, sum, average\n",
    "list1=[]\n",
    "while True:\n",
    "    x = raw_input(\"enter numbers into list one by one: \")\n",
    "    if x == \"\":\n",
    "        break\n",
    "    elif len(x)<2:\n",
    "        list1.append(int(x))\n",
    "    else:\n",
    "        print \"enter single digits only, try again\"\n",
    "print list1\n",
    "for i in range(len(list1)-1,0,-1):\n",
    "    for j in range(i):\n",
    "        if list1[j]>list1[j+1]:\n",
    "            m = list1[j]\n",
    "            list1[j] = list1[j+1]\n",
    "            list1[j+1]=m\n",
    "summ = 0            \n",
    "for i in list1:\n",
    "    summ +=i\n",
    "avg = float(summ)/len(list1)\n",
    "print \"min number of the list is {0}\".format(list1[0])\n",
    "print \"max number of the list is {0}\".format(list1[len(list1)-1])\n",
    "print \"sum of the entered numbers is {0}\".format(summ)\n",
    "print \"average of the entered numbers is {0:.2f}\".format(avg)"
   ]
  },
  {
   "cell_type": "code",
   "execution_count": null,
   "metadata": {
    "collapsed": true
   },
   "outputs": [],
   "source": []
  },
  {
   "cell_type": "code",
   "execution_count": 16,
   "metadata": {
    "collapsed": false
   },
   "outputs": [
    {
     "name": "stdout",
     "output_type": "stream",
     "text": [
      "['emp1', 'emp2', 'emp3', 'emp4']\n"
     ]
    }
   ],
   "source": [
    "#29. names  =\"emp1,emp2,emp3,emp4\" iterate through the employee names.\n",
    "names = \"emp1,emp2,emp3,emp4\"\n",
    "name1=\"\"\n",
    "list1=[]\n",
    "for i in names:\n",
    "    if i==\",\":\n",
    "        list1.append(name1)\n",
    "        name1,i=\"\",\"\"\n",
    "    name1+=i\n",
    "else:\n",
    "    list1.append(name1)\n",
    "print list1"
   ]
  },
  {
   "cell_type": "code",
   "execution_count": 39,
   "metadata": {
    "collapsed": false
   },
   "outputs": [
    {
     "name": "stdout",
     "output_type": "stream",
     "text": [
      "enter the actual string: sagar gaddam sagar gaddam sagar\n",
      "enter the sorucestring to find: sagar\n",
      "enter the destination string to replace: chintu\n",
      "enter a number to replace source string's occurence with destination string: 2\n",
      "sagar gaddam chintu gaddam sagar\n"
     ]
    }
   ],
   "source": [
    "#30. Take actuual string, soucrce string, destination string. replce first nth occurances of soucestring with destination \\\n",
    "#    string of actual string\n",
    "x=0\n",
    "string1 = \"\"\n",
    "actualstring = raw_input(\"enter the actual string: \")\n",
    "sourcestring = raw_input(\"enter the sorucestring to find: \")\n",
    "deststring = raw_input(\"enter the destination string to replace: \")\n",
    "occurence = input(\"enter a number to replace source string's occurence with destination string: \")\n",
    "for i in range(len(actualstring)):\n",
    "    #print i \n",
    "    if actualstring[i:i+len(sourcestring)]==sourcestring:\n",
    "        x+=1\n",
    "        if x==occurence:\n",
    "            string1+=deststring\n",
    "            i+=len(sourcestring)\n",
    "            #print i\n",
    "            #print string1\n",
    "            #continue\n",
    "            break\n",
    "        #else:\n",
    "            #continue\n",
    "    string1+=actualstring[i]\n",
    "string1 += actualstring[i:]\n",
    "print string1"
   ]
  },
  {
   "cell_type": "code",
   "execution_count": 41,
   "metadata": {
    "collapsed": false
   },
   "outputs": [
    {
     "name": "stdout",
     "output_type": "stream",
     "text": [
      "enter numbers into list one by one: 23\n",
      "enter numbers into list one by one: 64\n",
      "enter numbers into list one by one: 23\n",
      "enter numbers into list one by one: 76\n",
      "enter numbers into list one by one: 34\n",
      "enter numbers into list one by one: 87\n",
      "enter numbers into list one by one: 356\n",
      "enter numbers into list one by one: \n",
      "[23, 64, 23, 76, 34, 87, 356]\n",
      "min number of the list is 23\n",
      "max number of the list is 356\n",
      "sum of the entered numbers is 663\n",
      "average of the entered numbers is 94.71\n"
     ]
    }
   ],
   "source": [
    "#31. Taake numbers from the user and findout min, maximum, sum, average\n",
    "list1=[]\n",
    "while True:\n",
    "    x = raw_input(\"enter numbers into list one by one: \")\n",
    "    if x == \"\":\n",
    "        break\n",
    "    else:\n",
    "        list1.append(int(x))\n",
    "print list1\n",
    "for i in range(len(list1)-1,0,-1):\n",
    "    for j in range(i):\n",
    "        if list1[j]>list1[j+1]:\n",
    "            m = list1[j]\n",
    "            list1[j] = list1[j+1]\n",
    "            list1[j+1]=m\n",
    "summ = 0            \n",
    "for i in list1:\n",
    "    summ +=i\n",
    "avg = float(summ)/len(list1)\n",
    "print \"min number of the list is {0}\".format(list1[0])\n",
    "print \"max number of the list is {0}\".format(list1[len(list1)-1])\n",
    "print \"sum of the entered numbers is {0}\".format(summ)\n",
    "print \"average of the entered numbers is {0:.2f}\".format(avg)"
   ]
  },
  {
   "cell_type": "code",
   "execution_count": 48,
   "metadata": {
    "collapsed": false
   },
   "outputs": [
    {
     "name": "stdout",
     "output_type": "stream",
     "text": [
      "[10, 20, 30, 40, 50, 60, 70, 80, 90, 20]\n"
     ]
    }
   ],
   "source": [
    "#32. l=[10,20,30,[40,50,60],70,[80,90,20]]. Convert this list as sigle dimentiona list\n",
    "l=[10,20,30,[40,50,60],70,[80,90,20]]\n",
    "list1=[]\n",
    "for i in l:\n",
    "    if type(i) in [list,tuple]:\n",
    "        for j in i:\n",
    "            list1.append(j)\n",
    "    else:\n",
    "        list1.append(i)\n",
    "print list1"
   ]
  },
  {
   "cell_type": "code",
   "execution_count": 51,
   "metadata": {
    "collapsed": false
   },
   "outputs": [
    {
     "name": "stdout",
     "output_type": "stream",
     "text": [
      "enter a word to count repetitions of each character: sagar gaddam\n",
      "s repeated 1 times in sagar gaddam\n",
      "a repeated 4 times in sagar gaddam\n",
      "g repeated 2 times in sagar gaddam\n",
      "r repeated 1 times in sagar gaddam\n",
      "  repeated 1 times in sagar gaddam\n",
      "d repeated 2 times in sagar gaddam\n",
      "m repeated 1 times in sagar gaddam\n"
     ]
    }
   ],
   "source": [
    "#33. input: \"google\" print count of each character \n",
    "char = \"google\"\n",
    "char = raw_input(\"enter a word to count repetitions of each character: \")\n",
    "list1=[]\n",
    "for i in char:\n",
    "    if i in list1:\n",
    "        continue\n",
    "    list1.append(i)\n",
    "    count = 0\n",
    "    for j in char:\n",
    "        if i == j:\n",
    "            count+=1\n",
    "            \n",
    "        \n",
    "    print \"{0} repeated {1} times in {2}\".format(i,count,char)"
   ]
  },
  {
   "cell_type": "code",
   "execution_count": 66,
   "metadata": {
    "collapsed": false
   },
   "outputs": [
    {
     "name": "stdout",
     "output_type": "stream",
     "text": [
      "enter a number into list: 1\n",
      "enter a number into list: 2\n",
      "enter a number into list: [4,5]\n",
      "enter a number into list: 6\n",
      "enter a number into list: \n",
      "['1', '2', ['[4,5]'], '6']\n"
     ]
    }
   ],
   "source": [
    "#34. Convert n dimentional list to single dimentiona list.\n",
    "list1=[]\n",
    "i=0\n",
    "while True:\n",
    "    x = raw_input(\"enter a number into list: \")\n",
    "    if x == \"\":\n",
    "        break\n",
    "    else:\n",
    "        if x[0]==\"[\":\n",
    "            list1.append([])\n",
    "            list1[i].append(x)\n",
    "        else:\n",
    "            list1.append(x)\n",
    "        i+=1\n",
    "print list1"
   ]
  },
  {
   "cell_type": "code",
   "execution_count": null,
   "metadata": {
    "collapsed": true
   },
   "outputs": [],
   "source": []
  },
  {
   "cell_type": "code",
   "execution_count": 68,
   "metadata": {
    "collapsed": false
   },
   "outputs": [
    {
     "name": "stdout",
     "output_type": "stream",
     "text": [
      "[10, 20, 30, 40, 50, 80, 90, 60, 70, 80, 90, 20]\n"
     ]
    }
   ],
   "source": [
    "#34. Convert n dimentional list to single dimentiona list.\n",
    "l=[10,20,30,[40,50,[80,90],60],70,[80,90,20]]\n",
    "list1=[]\n",
    "for i in l:\n",
    "    if type(i) in [list,tuple]:\n",
    "        for j in i:\n",
    "            if type(j) in [list,tuple]:\n",
    "                for k in j:\n",
    "                    list1.append(k)\n",
    "            else:\n",
    "                #list1.append()\n",
    "                list1.append(j)\n",
    "    else:\n",
    "        list1.append(i)\n",
    "print list1"
   ]
  },
  {
   "cell_type": "code",
   "execution_count": 71,
   "metadata": {
    "collapsed": false
   },
   "outputs": [
    {
     "name": "stdout",
     "output_type": "stream",
     "text": [
      "123\n"
     ]
    }
   ],
   "source": [
    "#35. l=[1,2,3] just make it as a string.\n",
    "l=[1,2,3]\n",
    "#print str(l)\n",
    "string1 = \"\"\n",
    "for i in l:\n",
    "    string1+=str(i)\n",
    "    \n",
    "print string1"
   ]
  },
  {
   "cell_type": "code",
   "execution_count": 74,
   "metadata": {
    "collapsed": false
   },
   "outputs": [
    {
     "name": "stdout",
     "output_type": "stream",
     "text": [
      "[1, 2, 3, 4, 5, 6, 7, 8, 9, 10]\n"
     ]
    }
   ],
   "source": [
    "#l=[1,2,3,[4,5,6],7,[8,9,10]] for single dimentional list\n",
    "l=[1,2,3,[4,5,6],7,[8,9,10]] \n",
    "list1=[]\n",
    "for i in l:\n",
    "    if type(i) in [list,tuple]:\n",
    "        for j in i:\n",
    "            list1.append(j)\n",
    "    else:\n",
    "        list1.append(i)\n",
    "print list1"
   ]
  },
  {
   "cell_type": "code",
   "execution_count": 13,
   "metadata": {
    "collapsed": false
   },
   "outputs": [
    {
     "name": "stdout",
     "output_type": "stream",
     "text": [
      "A repeated 5 times in given list\n",
      "b repeated 3 times in given list\n",
      "d repeated 3 times in given list\n",
      "c repeated 2 times in given list\n",
      "enter a character to search in the list: b\n",
      "b found at index 2 in the list\n"
     ]
    }
   ],
   "source": [
    "#37. l=['a','A','b','B','d','D','c','C'] WAP to find out case insensitive count and case insensitive search for an element.\n",
    "l=['A','a','b','B','d','D','a','c','A','C','a','B','d']\n",
    "count=0\n",
    "list1=[]\n",
    "for i in range(len(l)):\n",
    "    count=1\n",
    "    if l[i] not in list1:\n",
    "            for j in l[i+1:]:\n",
    "                if l[i] == j or l[i] == j.lower() or l[i] == j.upper():\n",
    "                    count+=1\n",
    "                    if j not in list1:\n",
    "                        list1.append(j)\n",
    "            if l[i] not in list1:\n",
    "                list1.append(l[i]) \n",
    "            print \"{0} repeated {1} times in given list\".format(l[i],count)\n",
    "\n",
    "search1 = raw_input(\"enter a character to search in the list: \")\n",
    "for m in range(len(l)):\n",
    "    if search1 == l[m] or search1 == l[m].upper() or search1 == l[m].lower():\n",
    "        print \"{1} found at index {0} in the list\".format(m,search1)\n",
    "        break\n",
    "else:\n",
    "    print \"{0} is not in list\".format(search1)"
   ]
  },
  {
   "cell_type": "code",
   "execution_count": 18,
   "metadata": {
    "collapsed": false
   },
   "outputs": [
    {
     "name": "stdout",
     "output_type": "stream",
     "text": [
      "['A', 'B', 'C', 'D', 'a', 'b', 'c', 'd']\n"
     ]
    }
   ],
   "source": [
    "#38.l=['a','A','b','B','d','D','c','C']  sort the list properly\n",
    "list1=['a','A','b','B','d','D','c','C'] \n",
    "for i in range(len(list1)-1,0,-1):\n",
    "    for j in range(i):\n",
    "        #print list1\n",
    "        if list1[j]>list1[j+1]:\n",
    "            m = list1[j]\n",
    "            list1[j] = list1[j+1]\n",
    "            list1[j+1]=m\n",
    "            #print list1\n",
    "print list1"
   ]
  },
  {
   "cell_type": "code",
   "execution_count": 19,
   "metadata": {
    "collapsed": true
   },
   "outputs": [],
   "source": [
    "#39. find the start position of the largest block of repeated characters in a given string\n",
    "string1 = \"My name is Gaddam Sagar\"\n",
    "list1=string1.split(\" \")"
   ]
  },
  {
   "cell_type": "code",
   "execution_count": 20,
   "metadata": {
    "collapsed": false
   },
   "outputs": [
    {
     "data": {
      "text/plain": [
       "['My', 'name', 'is', 'Gaddam', 'Sagar']"
      ]
     },
     "execution_count": 20,
     "metadata": {},
     "output_type": "execute_result"
    }
   ],
   "source": [
    "list1"
   ]
  },
  {
   "cell_type": "code",
   "execution_count": null,
   "metadata": {
    "collapsed": true
   },
   "outputs": [],
   "source": []
  },
  {
   "cell_type": "code",
   "execution_count": null,
   "metadata": {
    "collapsed": true
   },
   "outputs": [],
   "source": []
  },
  {
   "cell_type": "code",
   "execution_count": null,
   "metadata": {
    "collapsed": true
   },
   "outputs": [],
   "source": []
  },
  {
   "cell_type": "code",
   "execution_count": null,
   "metadata": {
    "collapsed": true
   },
   "outputs": [],
   "source": []
  },
  {
   "cell_type": "code",
   "execution_count": null,
   "metadata": {
    "collapsed": true
   },
   "outputs": [],
   "source": []
  },
  {
   "cell_type": "code",
   "execution_count": null,
   "metadata": {
    "collapsed": true
   },
   "outputs": [],
   "source": []
  },
  {
   "cell_type": "code",
   "execution_count": 8,
   "metadata": {
    "collapsed": false
   },
   "outputs": [
    {
     "data": {
      "text/plain": [
       "0"
      ]
     },
     "execution_count": 8,
     "metadata": {},
     "output_type": "execute_result"
    }
   ],
   "source": [
    "m"
   ]
  },
  {
   "cell_type": "code",
   "execution_count": null,
   "metadata": {
    "collapsed": true
   },
   "outputs": [],
   "source": []
  },
  {
   "cell_type": "code",
   "execution_count": null,
   "metadata": {
    "collapsed": true
   },
   "outputs": [],
   "source": []
  },
  {
   "cell_type": "code",
   "execution_count": null,
   "metadata": {
    "collapsed": true
   },
   "outputs": [],
   "source": []
  },
  {
   "cell_type": "code",
   "execution_count": null,
   "metadata": {
    "collapsed": true
   },
   "outputs": [],
   "source": []
  },
  {
   "cell_type": "code",
   "execution_count": null,
   "metadata": {
    "collapsed": true
   },
   "outputs": [],
   "source": []
  },
  {
   "cell_type": "code",
   "execution_count": null,
   "metadata": {
    "collapsed": true
   },
   "outputs": [],
   "source": []
  },
  {
   "cell_type": "code",
   "execution_count": null,
   "metadata": {
    "collapsed": true
   },
   "outputs": [],
   "source": []
  },
  {
   "cell_type": "code",
   "execution_count": null,
   "metadata": {
    "collapsed": true
   },
   "outputs": [],
   "source": []
  },
  {
   "cell_type": "code",
   "execution_count": null,
   "metadata": {
    "collapsed": true
   },
   "outputs": [],
   "source": []
  },
  {
   "cell_type": "code",
   "execution_count": null,
   "metadata": {
    "collapsed": true
   },
   "outputs": [],
   "source": []
  },
  {
   "cell_type": "code",
   "execution_count": null,
   "metadata": {
    "collapsed": true
   },
   "outputs": [],
   "source": []
  },
  {
   "cell_type": "code",
   "execution_count": null,
   "metadata": {
    "collapsed": true
   },
   "outputs": [],
   "source": []
  },
  {
   "cell_type": "code",
   "execution_count": null,
   "metadata": {
    "collapsed": true
   },
   "outputs": [],
   "source": []
  },
  {
   "cell_type": "code",
   "execution_count": null,
   "metadata": {
    "collapsed": true
   },
   "outputs": [],
   "source": []
  },
  {
   "cell_type": "code",
   "execution_count": null,
   "metadata": {
    "collapsed": true
   },
   "outputs": [],
   "source": []
  },
  {
   "cell_type": "code",
   "execution_count": null,
   "metadata": {
    "collapsed": true
   },
   "outputs": [],
   "source": []
  },
  {
   "cell_type": "code",
   "execution_count": null,
   "metadata": {
    "collapsed": true
   },
   "outputs": [],
   "source": []
  },
  {
   "cell_type": "code",
   "execution_count": null,
   "metadata": {
    "collapsed": true
   },
   "outputs": [],
   "source": []
  },
  {
   "cell_type": "code",
   "execution_count": null,
   "metadata": {
    "collapsed": true
   },
   "outputs": [],
   "source": []
  },
  {
   "cell_type": "code",
   "execution_count": null,
   "metadata": {
    "collapsed": true
   },
   "outputs": [],
   "source": []
  },
  {
   "cell_type": "code",
   "execution_count": null,
   "metadata": {
    "collapsed": true
   },
   "outputs": [],
   "source": []
  },
  {
   "cell_type": "code",
   "execution_count": null,
   "metadata": {
    "collapsed": true
   },
   "outputs": [],
   "source": []
  },
  {
   "cell_type": "code",
   "execution_count": null,
   "metadata": {
    "collapsed": true
   },
   "outputs": [],
   "source": []
  },
  {
   "cell_type": "code",
   "execution_count": null,
   "metadata": {
    "collapsed": true
   },
   "outputs": [],
   "source": []
  },
  {
   "cell_type": "code",
   "execution_count": null,
   "metadata": {
    "collapsed": true
   },
   "outputs": [],
   "source": []
  },
  {
   "cell_type": "code",
   "execution_count": null,
   "metadata": {
    "collapsed": true
   },
   "outputs": [],
   "source": []
  },
  {
   "cell_type": "code",
   "execution_count": null,
   "metadata": {
    "collapsed": true
   },
   "outputs": [],
   "source": []
  },
  {
   "cell_type": "code",
   "execution_count": null,
   "metadata": {
    "collapsed": true
   },
   "outputs": [],
   "source": []
  },
  {
   "cell_type": "code",
   "execution_count": null,
   "metadata": {
    "collapsed": true
   },
   "outputs": [],
   "source": []
  },
  {
   "cell_type": "code",
   "execution_count": null,
   "metadata": {
    "collapsed": true
   },
   "outputs": [],
   "source": []
  },
  {
   "cell_type": "code",
   "execution_count": null,
   "metadata": {
    "collapsed": true
   },
   "outputs": [],
   "source": []
  },
  {
   "cell_type": "code",
   "execution_count": null,
   "metadata": {
    "collapsed": true
   },
   "outputs": [],
   "source": []
  },
  {
   "cell_type": "code",
   "execution_count": null,
   "metadata": {
    "collapsed": true
   },
   "outputs": [],
   "source": []
  },
  {
   "cell_type": "code",
   "execution_count": null,
   "metadata": {
    "collapsed": true
   },
   "outputs": [],
   "source": []
  },
  {
   "cell_type": "code",
   "execution_count": null,
   "metadata": {
    "collapsed": true
   },
   "outputs": [],
   "source": []
  },
  {
   "cell_type": "code",
   "execution_count": null,
   "metadata": {
    "collapsed": true
   },
   "outputs": [],
   "source": []
  },
  {
   "cell_type": "code",
   "execution_count": null,
   "metadata": {
    "collapsed": true
   },
   "outputs": [],
   "source": []
  },
  {
   "cell_type": "code",
   "execution_count": null,
   "metadata": {
    "collapsed": true
   },
   "outputs": [],
   "source": []
  },
  {
   "cell_type": "code",
   "execution_count": null,
   "metadata": {
    "collapsed": true
   },
   "outputs": [],
   "source": []
  },
  {
   "cell_type": "code",
   "execution_count": null,
   "metadata": {
    "collapsed": true
   },
   "outputs": [],
   "source": []
  },
  {
   "cell_type": "code",
   "execution_count": null,
   "metadata": {
    "collapsed": true
   },
   "outputs": [],
   "source": []
  },
  {
   "cell_type": "code",
   "execution_count": null,
   "metadata": {
    "collapsed": true
   },
   "outputs": [],
   "source": []
  },
  {
   "cell_type": "code",
   "execution_count": null,
   "metadata": {
    "collapsed": true
   },
   "outputs": [],
   "source": []
  },
  {
   "cell_type": "code",
   "execution_count": null,
   "metadata": {
    "collapsed": true
   },
   "outputs": [],
   "source": []
  },
  {
   "cell_type": "code",
   "execution_count": null,
   "metadata": {
    "collapsed": true
   },
   "outputs": [],
   "source": []
  },
  {
   "cell_type": "code",
   "execution_count": null,
   "metadata": {
    "collapsed": true
   },
   "outputs": [],
   "source": []
  },
  {
   "cell_type": "code",
   "execution_count": null,
   "metadata": {
    "collapsed": true
   },
   "outputs": [],
   "source": []
  },
  {
   "cell_type": "code",
   "execution_count": null,
   "metadata": {
    "collapsed": true
   },
   "outputs": [],
   "source": []
  },
  {
   "cell_type": "code",
   "execution_count": null,
   "metadata": {
    "collapsed": true
   },
   "outputs": [],
   "source": []
  },
  {
   "cell_type": "code",
   "execution_count": null,
   "metadata": {
    "collapsed": true
   },
   "outputs": [],
   "source": []
  },
  {
   "cell_type": "code",
   "execution_count": null,
   "metadata": {
    "collapsed": true
   },
   "outputs": [],
   "source": []
  },
  {
   "cell_type": "code",
   "execution_count": null,
   "metadata": {
    "collapsed": true
   },
   "outputs": [],
   "source": []
  },
  {
   "cell_type": "code",
   "execution_count": null,
   "metadata": {
    "collapsed": true
   },
   "outputs": [],
   "source": []
  },
  {
   "cell_type": "code",
   "execution_count": null,
   "metadata": {
    "collapsed": true
   },
   "outputs": [],
   "source": []
  },
  {
   "cell_type": "code",
   "execution_count": null,
   "metadata": {
    "collapsed": true
   },
   "outputs": [],
   "source": []
  },
  {
   "cell_type": "code",
   "execution_count": null,
   "metadata": {
    "collapsed": true
   },
   "outputs": [],
   "source": []
  },
  {
   "cell_type": "code",
   "execution_count": null,
   "metadata": {
    "collapsed": true
   },
   "outputs": [],
   "source": []
  },
  {
   "cell_type": "code",
   "execution_count": null,
   "metadata": {
    "collapsed": true
   },
   "outputs": [],
   "source": []
  },
  {
   "cell_type": "code",
   "execution_count": null,
   "metadata": {
    "collapsed": true
   },
   "outputs": [],
   "source": []
  },
  {
   "cell_type": "code",
   "execution_count": null,
   "metadata": {
    "collapsed": true
   },
   "outputs": [],
   "source": []
  },
  {
   "cell_type": "code",
   "execution_count": null,
   "metadata": {
    "collapsed": true
   },
   "outputs": [],
   "source": []
  },
  {
   "cell_type": "code",
   "execution_count": null,
   "metadata": {
    "collapsed": true
   },
   "outputs": [],
   "source": []
  },
  {
   "cell_type": "code",
   "execution_count": null,
   "metadata": {
    "collapsed": true
   },
   "outputs": [],
   "source": []
  },
  {
   "cell_type": "code",
   "execution_count": null,
   "metadata": {
    "collapsed": true
   },
   "outputs": [],
   "source": []
  },
  {
   "cell_type": "code",
   "execution_count": null,
   "metadata": {
    "collapsed": true
   },
   "outputs": [],
   "source": []
  },
  {
   "cell_type": "code",
   "execution_count": null,
   "metadata": {
    "collapsed": true
   },
   "outputs": [],
   "source": []
  },
  {
   "cell_type": "code",
   "execution_count": null,
   "metadata": {
    "collapsed": true
   },
   "outputs": [],
   "source": []
  },
  {
   "cell_type": "code",
   "execution_count": null,
   "metadata": {
    "collapsed": true
   },
   "outputs": [],
   "source": []
  },
  {
   "cell_type": "code",
   "execution_count": null,
   "metadata": {
    "collapsed": true
   },
   "outputs": [],
   "source": []
  },
  {
   "cell_type": "code",
   "execution_count": null,
   "metadata": {
    "collapsed": true
   },
   "outputs": [],
   "source": []
  },
  {
   "cell_type": "code",
   "execution_count": null,
   "metadata": {
    "collapsed": true
   },
   "outputs": [],
   "source": []
  },
  {
   "cell_type": "code",
   "execution_count": null,
   "metadata": {
    "collapsed": true
   },
   "outputs": [],
   "source": []
  },
  {
   "cell_type": "code",
   "execution_count": null,
   "metadata": {
    "collapsed": true
   },
   "outputs": [],
   "source": []
  },
  {
   "cell_type": "code",
   "execution_count": null,
   "metadata": {
    "collapsed": true
   },
   "outputs": [],
   "source": []
  },
  {
   "cell_type": "code",
   "execution_count": null,
   "metadata": {
    "collapsed": true
   },
   "outputs": [],
   "source": []
  },
  {
   "cell_type": "code",
   "execution_count": null,
   "metadata": {
    "collapsed": true
   },
   "outputs": [],
   "source": []
  },
  {
   "cell_type": "code",
   "execution_count": null,
   "metadata": {
    "collapsed": true
   },
   "outputs": [],
   "source": []
  },
  {
   "cell_type": "code",
   "execution_count": null,
   "metadata": {
    "collapsed": true
   },
   "outputs": [],
   "source": []
  },
  {
   "cell_type": "code",
   "execution_count": null,
   "metadata": {
    "collapsed": true
   },
   "outputs": [],
   "source": []
  },
  {
   "cell_type": "code",
   "execution_count": null,
   "metadata": {
    "collapsed": true
   },
   "outputs": [],
   "source": []
  },
  {
   "cell_type": "code",
   "execution_count": null,
   "metadata": {
    "collapsed": true
   },
   "outputs": [],
   "source": []
  },
  {
   "cell_type": "code",
   "execution_count": null,
   "metadata": {
    "collapsed": true
   },
   "outputs": [],
   "source": []
  },
  {
   "cell_type": "code",
   "execution_count": null,
   "metadata": {
    "collapsed": true
   },
   "outputs": [],
   "source": []
  },
  {
   "cell_type": "code",
   "execution_count": null,
   "metadata": {
    "collapsed": true
   },
   "outputs": [],
   "source": []
  },
  {
   "cell_type": "code",
   "execution_count": null,
   "metadata": {
    "collapsed": true
   },
   "outputs": [],
   "source": []
  },
  {
   "cell_type": "code",
   "execution_count": null,
   "metadata": {
    "collapsed": true
   },
   "outputs": [],
   "source": []
  }
 ],
 "metadata": {
  "kernelspec": {
   "display_name": "Python 2",
   "language": "python",
   "name": "python2"
  },
  "language_info": {
   "codemirror_mode": {
    "name": "ipython",
    "version": 2
   },
   "file_extension": ".py",
   "mimetype": "text/x-python",
   "name": "python",
   "nbconvert_exporter": "python",
   "pygments_lexer": "ipython2",
   "version": "2.7.13"
  }
 },
 "nbformat": 4,
 "nbformat_minor": 2
}
