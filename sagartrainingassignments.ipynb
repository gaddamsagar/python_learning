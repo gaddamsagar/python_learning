{
 "cells": [
  {
   "cell_type": "code",
   "execution_count": 3,
   "metadata": {
    "collapsed": false
   },
   "outputs": [
    {
     "name": "stdout",
     "output_type": "stream",
     "text": [
      "This program will check if the string2 is a substring of string1 or not\n",
      "enter string1: sagar gaddam\n",
      "enter string2: gaddam\n",
      "string2 is a substring of string1\n"
     ]
    }
   ],
   "source": [
    "#2.write a program to chek given substring is there in actual string or not? (search should be case insensitive)\n",
    "print \"This program will check if the string2 is a substring of string1 or not\"\n",
    "string1 = raw_input(\"enter string1: \")\n",
    "string2 = raw_input(\"enter string2: \")\n",
    "\n",
    "if string2 in string1:\n",
    "    print \"string2 is a substring of string1\"\n",
    "else:\n",
    "    print \"string2 is not a substring of string1\""
   ]
  },
  {
   "cell_type": "code",
   "execution_count": 4,
   "metadata": {
    "collapsed": false
   },
   "outputs": [
    {
     "name": "stdout",
     "output_type": "stream",
     "text": [
      "enter a number : 4\n",
      "even\n"
     ]
    }
   ],
   "source": [
    "#3.take a number from the user and check whether even or odd\n",
    "num1 = input(\"enter a number : \")\n",
    "if num1%2 == 0:\n",
    "    print \"even\"\n",
    "else:\n",
    "    print \"odd\""
   ]
  },
  {
   "cell_type": "code",
   "execution_count": 5,
   "metadata": {
    "collapsed": false
   },
   "outputs": [
    {
     "name": "stdout",
     "output_type": "stream",
     "text": [
      "enter a number : 5\n",
      "odd\n"
     ]
    }
   ],
   "source": [
    "#3.take a number from the user and check whether even or odd\n",
    "num1 = input(\"enter a number : \")\n",
    "if num1%2 == 0:\n",
    "    print \"even\"\n",
    "else:\n",
    "    print \"odd\""
   ]
  },
  {
   "cell_type": "code",
   "execution_count": 8,
   "metadata": {
    "collapsed": false
   },
   "outputs": [
    {
     "name": "stdout",
     "output_type": "stream",
     "text": [
      "enter a number: 33\n",
      "33 is NOT a prime number\n"
     ]
    }
   ],
   "source": [
    "#4take a number from the user and check whether it is prime\n",
    "a = input(\"enter a number: \")\n",
    "for i in range(2,a):\n",
    "    if a%i == 0:\n",
    "        print a, \"is NOT a prime number\"\n",
    "        break\n",
    "else:\n",
    "        print a, \"is a prime number\""
   ]
  },
  {
   "cell_type": "code",
   "execution_count": 1,
   "metadata": {
    "collapsed": false
   },
   "outputs": [
    {
     "name": "stdout",
     "output_type": "stream",
     "text": [
      "1. windows\n",
      "2. Linux\n",
      "3. Mac\n",
      "4. quit\n",
      "select an OS from the above list(enter numbers): 5\n",
      "invalid selection, try again\n",
      "select an OS from the above list(enter numbers): 6\n",
      "invalid selection, try again\n",
      "select an OS from the above list(enter numbers): 1\n",
      "you have selected Windows \n",
      "select an OS from the above list(enter numbers): 2\n",
      "you have selected  Linux\n",
      "select an OS from the above list(enter numbers): 3\n",
      "you have selected Mac\n",
      "select an OS from the above list(enter numbers): 4\n"
     ]
    }
   ],
   "source": [
    "#10Show the below menu to the user until and until user select quit and display corresponding os message\n",
    "print \"1. windows\\n2. Linux\\n3. Mac\\n4. quit\"\n",
    "while True:\n",
    "    selection = raw_input(\"select an OS from the above list(enter numbers): \")\n",
    "    if selection == \"1\":\n",
    "        print \"you have selected Windows \"\n",
    "    elif selection == \"2\":\n",
    "        print \"you have selected  Linux\"\n",
    "    elif selection == \"3\":\n",
    "        print \"you have selected Mac\"\n",
    "    elif selection == \"4\":\n",
    "        break\n",
    "    else:\n",
    "        print \"invalid selection, try again\""
   ]
  },
  {
   "cell_type": "code",
   "execution_count": 10,
   "metadata": {
    "collapsed": false
   },
   "outputs": [
    {
     "name": "stdout",
     "output_type": "stream",
     "text": [
      "enter total number of people: 110\n",
      "enter total number of buses: 3\n",
      "enter number of seats in each bus: 25\n",
      "need 2 more buses for 35 people\n"
     ]
    }
   ],
   "source": [
    "#16. Take the input from the user for(Total number of people, toatl number of busses, Number of seats for bus). \n",
    "#    Based on the input Deside whether there is sufficient busses or not and give solution for how many \n",
    "#    extra busses required.\n",
    "import math\n",
    "people = input(\"enter total number of people: \")\n",
    "buses = input(\"enter total number of buses: \")\n",
    "seats = input(\"enter number of seats in each bus: \")\n",
    "extra_p,extra_b = 0,0\n",
    "if people < (buses * seats):\n",
    "    print \"no extra buses are required\"\n",
    "else:\n",
    "    #print \"extra buses required\"\n",
    "    extra_p = people - (buses*seats)\n",
    "    extra_b = float(extra_p)/seats\n",
    "    print \"need {0} more buses for {1} people\".format(int(math.ceil(extra_b)),extra_p)"
   ]
  },
  {
   "cell_type": "code",
   "execution_count": 18,
   "metadata": {
    "collapsed": false
   },
   "outputs": [
    {
     "name": "stdout",
     "output_type": "stream",
     "text": [
      "1\n",
      "3\n",
      "5\n",
      "7\n",
      "9\n",
      "11\n",
      "13\n",
      "15\n",
      "17\n",
      "19\n",
      "21\n",
      "23\n",
      "25\n",
      "27\n",
      "29\n",
      "31\n",
      "33\n",
      "35\n",
      "37\n",
      "39\n",
      "41\n",
      "43\n",
      "45\n",
      "47\n",
      "49\n",
      "51\n",
      "53\n",
      "55\n",
      "57\n",
      "59\n",
      "61\n",
      "63\n",
      "65\n",
      "67\n",
      "69\n",
      "71\n",
      "73\n",
      "75\n",
      "77\n",
      "79\n",
      "81\n",
      "83\n",
      "85\n",
      "87\n",
      "89\n",
      "91\n",
      "93\n",
      "95\n",
      "97\n",
      "99\n",
      "101\n",
      "103\n",
      "105\n",
      "107\n",
      "109\n",
      "111\n",
      "113\n",
      "115\n",
      "117\n",
      "119\n",
      "121\n",
      "123\n",
      "125\n",
      "127\n",
      "129\n",
      "131\n",
      "133\n",
      "135\n",
      "137\n",
      "139\n",
      "141\n",
      "143\n",
      "145\n",
      "147\n",
      "149\n",
      "151\n",
      "153\n",
      "155\n",
      "157\n",
      "159\n",
      "161\n",
      "163\n",
      "165\n",
      "167\n",
      "169\n",
      "171\n",
      "173\n",
      "175\n",
      "177\n",
      "179\n",
      "181\n",
      "183\n",
      "185\n",
      "187\n",
      "189\n",
      "191\n",
      "193\n",
      "195\n",
      "197\n",
      "199\n"
     ]
    }
   ],
   "source": [
    "#17. Print the first 100 odd numbers\n",
    "j=0\n",
    "toprint = 100\n",
    "for i in range(500):\n",
    "    if (i%2)==1:\n",
    "        print i\n",
    "        #print j\n",
    "        j+=1\n",
    "        if j >= toprint:\n",
    "            break"
   ]
  },
  {
   "cell_type": "code",
   "execution_count": 1,
   "metadata": {
    "collapsed": false
   },
   "outputs": [
    {
     "name": "stdout",
     "output_type": "stream",
     "text": [
      "enter a number to print its factors: a\n",
      "enter numbers only, try again\n",
      "enter a number to print its factors: 12\n",
      "1\n",
      "2\n",
      "3\n",
      "4\n",
      "6\n",
      "12\n"
     ]
    }
   ],
   "source": [
    "#18. Determine the factors of a number entered  by the user\n",
    "while True:\n",
    "    try:\n",
    "        num = input(\"enter a number to print its factors: \")\n",
    "        for i in range(num):\n",
    "            if num%(i+1) == 0:\n",
    "                print i+1\n",
    "        break\n",
    "    except NameError:\n",
    "        print \"enter numbers only, try again\""
   ]
  },
  {
   "cell_type": "code",
   "execution_count": 4,
   "metadata": {
    "collapsed": false
   },
   "outputs": [
    {
     "name": "stdout",
     "output_type": "stream",
     "text": [
      "enter a number b/w 0 to 100 or x to quit: 24\n",
      "Lesser\n",
      "enter a number b/w 0 to 100 or x to quit: 59\n",
      "Higher\n",
      "enter a number b/w 0 to 100 or x to quit: 40\n",
      "Higher\n",
      "enter a number b/w 0 to 100 or x to quit: 35\n",
      "Higher\n",
      "enter a number b/w 0 to 100 or x to quit: 30\n",
      "Higher\n",
      "enter a number b/w 0 to 100 or x to quit: 27\n",
      "Lesser\n",
      "enter a number b/w 0 to 100 or x to quit: 28\n",
      "Lesser\n",
      "enter a number b/w 0 to 100 or x to quit: 29\n",
      "YES, your guess is correct\n"
     ]
    }
   ],
   "source": [
    "#19. Play a number guessing game (User enters a guess, you print YES or Higher or Lower)\n",
    "import random\n",
    "num = random.randrange(100)\n",
    "while True:\n",
    "    num1 = raw_input(\"enter a number b/w 0 to 100 or x to quit: \")\n",
    "    if num1 == \"x\":\n",
    "        print \"You had to guess \",num\n",
    "        break\n",
    "    elif int(num1)<num:\n",
    "        print \"Lesser\"\n",
    "    elif int(num1)==num:\n",
    "        print \"YES, your guess is correct\"\n",
    "        break\n",
    "    elif int(num1) > num:\n",
    "        print \"Higher\"\n",
    "        "
   ]
  },
  {
   "cell_type": "code",
   "execution_count": 7,
   "metadata": {
    "collapsed": false
   },
   "outputs": [
    {
     "name": "stdout",
     "output_type": "stream",
     "text": [
      "enter first number: 5\n",
      "enter second number(other than zero): 2\n",
      "5 is not divisble by 2\n"
     ]
    }
   ],
   "source": [
    "#20. Take two numbers from the user a,b check whether a is divisible by b or not?\n",
    "num1 = input(\"enter first number: \")\n",
    "num2 = input(\"enter second number(other than zero): \")\n",
    "if num1%num2 == 0:\n",
    "    print \"{0} is divisble by {1}\".format(num1,num2)\n",
    "else:\n",
    "    print \"{0} is not divisble by {1}\".format(num1,num2)"
   ]
  },
  {
   "cell_type": "code",
   "execution_count": 8,
   "metadata": {
    "collapsed": false
   },
   "outputs": [
    {
     "name": "stdout",
     "output_type": "stream",
     "text": [
      "enter first number: 16\n",
      "enter second number(other than zero): 4\n",
      "16 is divisble by 4\n"
     ]
    }
   ],
   "source": [
    "#20. Take two numbers from the user a,b check whether a is divisible by b or not?\n",
    "num1 = input(\"enter first number: \")\n",
    "num2 = input(\"enter second number(other than zero): \")\n",
    "if num1%num2 == 0:\n",
    "    print \"{0} is divisble by {1}\".format(num1,num2)\n",
    "else:\n",
    "    print \"{0} is not divisble by {1}\".format(num1,num2)"
   ]
  },
  {
   "cell_type": "code",
   "execution_count": 1,
   "metadata": {
    "collapsed": false
   },
   "outputs": [
    {
     "name": "stdout",
     "output_type": "stream",
     "text": [
      "enter the persons age in years to check his stage or x to exit :0.5\n",
      "baby\n",
      "enter the persons age in years to check his stage or x to exit :1\n",
      "toddler\n",
      "enter the persons age in years to check his stage or x to exit :2.5\n",
      "child\n",
      "enter the persons age in years to check his stage or x to exit :12\n",
      "child\n",
      "enter the persons age in years to check his stage or x to exit :13\n",
      "Teenager\n",
      "enter the persons age in years to check his stage or x to exit :18\n",
      "Adult\n",
      "enter the persons age in years to check his stage or x to exit :58\n",
      "Adult\n",
      "enter the persons age in years to check his stage or x to exit :60\n",
      "old codger\n",
      "enter the persons age in years to check his stage or x to exit :99\n",
      "old codger\n",
      "enter the persons age in years to check his stage or x to exit :x\n"
     ]
    }
   ],
   "source": [
    "#21. Given an age, figure out whether someone's a baby(0-1), toddler(1-2), child(2-12), teenager(13-17), adult(18-59) or old codger(60)\n",
    "while True:\n",
    "    age = raw_input(\"enter the persons age in years to check his stage or x to exit :\")\n",
    "    if age == \"x\":\n",
    "        break\n",
    "    elif float(age) <1:\n",
    "        print \"baby\"\n",
    "    elif float(age) <2.1:\n",
    "        print \"toddler\"\n",
    "    elif float(age) <13:\n",
    "        print \"child\"\n",
    "    elif float(age) <18:\n",
    "        print \"Teenager\"\n",
    "    elif float(age) <60:\n",
    "        print \"Adult\"\n",
    "    elif float(age) <200:\n",
    "        print \"old codger\""
   ]
  },
  {
   "cell_type": "code",
   "execution_count": 5,
   "metadata": {
    "collapsed": false
   },
   "outputs": [
    {
     "name": "stdout",
     "output_type": "stream",
     "text": [
      "sum of all multiples of 3 below 1000 is :  166833\n"
     ]
    }
   ],
   "source": [
    "#22. Find the sum of all the multiples of 3 or 5 below 1000\n",
    "j = 0\n",
    "for i in range(3,1000):\n",
    "    if i%3 == 0:\n",
    "        j += i\n",
    "print \"sum of all multiples of 3 below 1000 is : \",j"
   ]
  },
  {
   "cell_type": "code",
   "execution_count": 7,
   "metadata": {
    "collapsed": false
   },
   "outputs": [
    {
     "name": "stdout",
     "output_type": "stream",
     "text": [
      "enter first number : 5\n",
      "enter second number: 8\n",
      "8 is greater than 5\n"
     ]
    }
   ],
   "source": [
    "#23. Write a program to findout big of two numbers\n",
    "num1 = input(\"enter first number : \")\n",
    "num2 = input(\"enter second number: \")\n",
    "if num1 == num2:\n",
    "    print \"both are equal\"\n",
    "elif num1 > num2:\n",
    "    print \"{0} is greater than {1}\".format(num1,num2)\n",
    "else:\n",
    "    print \"{1} is greater than {0}\".format(num1,num2)"
   ]
  },
  {
   "cell_type": "code",
   "execution_count": 10,
   "metadata": {
    "collapsed": false
   },
   "outputs": [
    {
     "name": "stdout",
     "output_type": "stream",
     "text": [
      "enter numbers into list one by one: 23\n",
      "enter numbers into list one by one: 65\n",
      "enter numbers into list one by one: 23\n",
      "enter numbers into list one by one: 87\n",
      "enter numbers into list one by one: 78\n",
      "enter numbers into list one by one: 45\n",
      "enter numbers into list one by one: 34\n",
      "enter numbers into list one by one: 76\n",
      "enter numbers into list one by one: \n",
      "[23, 65, 23, 87, 78, 45, 34, 76]\n",
      "biggest number of the list is 87\n"
     ]
    }
   ],
   "source": [
    "#24. Write a program to findout biggest number in the given numbers.\n",
    "s= [1,2,5,7,89,9]\n",
    "list1=[]\n",
    "while True:\n",
    "    x = raw_input(\"enter numbers into list one by one: \")\n",
    "    if x == \"\":\n",
    "        break\n",
    "    else:\n",
    "        list1.append(int(x))\n",
    "print list1\n",
    "for i in range(len(list1)-1,0,-1):\n",
    "    for j in range(i):\n",
    "        if list1[j]>list1[j+1]:\n",
    "            m = list1[j]\n",
    "            list1[j] = list1[j+1]\n",
    "            list1[j+1]=m\n",
    "\n",
    "print \"biggest number of the list is {0}\".format(list1[len(list1)-1])"
   ]
  },
  {
   "cell_type": "code",
   "execution_count": 28,
   "metadata": {
    "collapsed": false
   },
   "outputs": [
    {
     "name": "stdout",
     "output_type": "stream",
     "text": [
      "enter the actual string: Masthan Muppaneni Masthan Mupaneni Masthan\n",
      "enter the substring to find: Masthan\n",
      "third occurance of 'Masthan' occured at index 35 in 'Masthan Muppaneni Masthan Mupaneni Masthan'\n"
     ]
    }
   ],
   "source": [
    "#25. findout third occurance of given substring\n",
    "x=0\n",
    "string1 = \"sagar gaddam\"\n",
    "string1 = raw_input(\"enter the actual string: \")\n",
    "substring = raw_input(\"enter the substring to find: \")\n",
    "for i in range(len(string1)):\n",
    "\tif string1[i:i+len(substring)]==substring:\n",
    "\t\tx+=1\n",
    "\t\tif x==3:\n",
    "\t\t\tprint \"third occurance of '{1}' occured at index {0} in '{2}'\".format(i,substring,string1)\n",
    "\t\t\tbreak\n",
    "\t\telse:\n",
    "\t\t\tcontinue\n",
    "else:\n",
    "    print \"'{2}' did not occur 3 times and occured {0} times in {1}\".format(x,string1,substring)"
   ]
  },
  {
   "cell_type": "code",
   "execution_count": 32,
   "metadata": {
    "collapsed": false
   },
   "outputs": [
    {
     "name": "stdout",
     "output_type": "stream",
     "text": [
      "enter the actual string: gaddam sagar gaddam sagar gaddam\n",
      "enter the substring to find: gad\n",
      "enter a number to find substring's occurence in actual string: 4\n",
      "'gad' did not occur 4 times and occured 3 times in gaddam sagar gaddam sagar gaddam\n"
     ]
    }
   ],
   "source": [
    "#26. findout nth occurance of given substring\n",
    "x=0\n",
    "string1 = \"sagar gaddam\"\n",
    "string1 = raw_input(\"enter the actual string: \")\n",
    "substring = raw_input(\"enter the substring to find: \")\n",
    "occurence = input(\"enter a number to find substring's occurence in actual string: \")\n",
    "for i in range(len(string1)):\n",
    "\tif string1[i:i+len(substring)]==substring:\n",
    "\t\tx+=1\n",
    "\t\tif x==occurence:\n",
    "\t\t\tprint \"{3} occurance of '{1}' occured at index {0} in '{2}'\".format(i,substring,string1,occurence)\n",
    "\t\t\tbreak\n",
    "\t\telse:\n",
    "\t\t\tcontinue\n",
    "else:\n",
    "    print \"'{2}' did not occur {3} times and occured {0} times in {1}\".format(x,string1,substring,occurence)"
   ]
  },
  {
   "cell_type": "code",
   "execution_count": 33,
   "metadata": {
    "collapsed": false
   },
   "outputs": [
    {
     "name": "stdout",
     "output_type": "stream",
     "text": [
      "enter the actual string: gaddam sagar gaddam sagar gaddam\n",
      "enter the substring to find: gad\n",
      "enter a number to find substring's occurence in actual string: 2\n",
      "2 occurance of 'gad' occured at index 13 in 'gaddam sagar gaddam sagar gaddam'\n"
     ]
    }
   ],
   "source": [
    "#26. findout nth occurance of given substring\n",
    "x=0\n",
    "string1 = \"sagar gaddam\"\n",
    "string1 = raw_input(\"enter the actual string: \")\n",
    "substring = raw_input(\"enter the substring to find: \")\n",
    "occurence = input(\"enter a number to find substring's occurence in actual string: \")\n",
    "for i in range(len(string1)):\n",
    "\tif string1[i:i+len(substring)]==substring:\n",
    "\t\tx+=1\n",
    "\t\tif x==occurence:\n",
    "\t\t\tprint \"{3} occurance of '{1}' occured at index {0} in '{2}'\".format(i,substring,string1,occurence)\n",
    "\t\t\tbreak\n",
    "\t\telse:\n",
    "\t\t\tcontinue\n",
    "else:\n",
    "    print \"'{2}' did not occur {3} times and occured {0} times in {1}\".format(x,string1,substring,occurence)"
   ]
  },
  {
   "cell_type": "code",
   "execution_count": 34,
   "metadata": {
    "collapsed": false
   },
   "outputs": [
    {
     "name": "stdout",
     "output_type": "stream",
     "text": [
      "enter the actual string: sagar gaddam\n",
      "enter the substring to find: a\n",
      "enter a number to find substring's occurence in actual string: 2\n",
      "2 occurance of 'a' occured at index 3 in 'sagar gaddam'\n"
     ]
    }
   ],
   "source": [
    "#26. findout nth occurance of given substring\n",
    "x=0\n",
    "string1 = \"sagar gaddam\"\n",
    "string1 = raw_input(\"enter the actual string: \")\n",
    "substring = raw_input(\"enter the substring to find: \")\n",
    "occurence = input(\"enter a number to find substring's occurence in actual string: \")\n",
    "for i in range(len(string1)):\n",
    "\tif string1[i:i+len(substring)]==substring:\n",
    "\t\tx+=1\n",
    "\t\tif x==occurence:\n",
    "\t\t\tprint \"{3} occurance of '{1}' occured at index {0} in '{2}'\".format(i,substring,string1,occurence)\n",
    "\t\t\tbreak\n",
    "\t\telse:\n",
    "\t\t\tcontinue\n",
    "else:\n",
    "    print \"'{2}' did not occur {3} times and occured {0} times in {1}\".format(x,string1,substring,occurence)"
   ]
  },
  {
   "cell_type": "code",
   "execution_count": 40,
   "metadata": {
    "collapsed": false
   },
   "outputs": [
    {
     "name": "stdout",
     "output_type": "stream",
     "text": [
      "enter numbers into list one by one: 2\n",
      "enter numbers into list one by one: 6\n",
      "enter numbers into list one by one: 34\n",
      "enter single digits only, try again\n",
      "enter numbers into list one by one: 4\n",
      "enter numbers into list one by one: 8\n",
      "enter numbers into list one by one: 5\n",
      "enter numbers into list one by one: 9\n",
      "enter numbers into list one by one: 1\n",
      "enter numbers into list one by one: \n",
      "[2, 6, 4, 8, 5, 9, 1]\n",
      "min number of the list is 1\n",
      "max number of the list is 9\n",
      "sum of the entered numbers is 35\n",
      "average of the entered numbers is 5.00\n"
     ]
    }
   ],
   "source": [
    "#27. Taake some single digit numbers from the user and findout min, maximum, sum, average\n",
    "list1=[]\n",
    "while True:\n",
    "    x = raw_input(\"enter numbers into list one by one: \")\n",
    "    if x == \"\":\n",
    "        break\n",
    "    elif len(x)<2:\n",
    "        list1.append(int(x))\n",
    "    else:\n",
    "        print \"enter single digits only, try again\"\n",
    "print list1\n",
    "for i in range(len(list1)-1,0,-1):\n",
    "    for j in range(i):\n",
    "        if list1[j]>list1[j+1]:\n",
    "            m = list1[j]\n",
    "            list1[j] = list1[j+1]\n",
    "            list1[j+1]=m\n",
    "summ = 0            \n",
    "for i in list1:\n",
    "    summ +=i\n",
    "avg = float(summ)/len(list1)\n",
    "print \"min number of the list is {0}\".format(list1[0])\n",
    "print \"max number of the list is {0}\".format(list1[len(list1)-1])\n",
    "print \"sum of the entered numbers is {0}\".format(summ)\n",
    "print \"average of the entered numbers is {0:.2f}\".format(avg)"
   ]
  },
  {
   "cell_type": "code",
   "execution_count": null,
   "metadata": {
    "collapsed": true
   },
   "outputs": [],
   "source": []
  },
  {
   "cell_type": "code",
   "execution_count": 16,
   "metadata": {
    "collapsed": false
   },
   "outputs": [
    {
     "name": "stdout",
     "output_type": "stream",
     "text": [
      "['emp1', 'emp2', 'emp3', 'emp4']\n"
     ]
    }
   ],
   "source": [
    "#29. names  =\"emp1,emp2,emp3,emp4\" iterate through the employee names.\n",
    "names = \"emp1,emp2,emp3,emp4\"\n",
    "name1=\"\"\n",
    "list1=[]\n",
    "for i in names:\n",
    "    if i==\",\":\n",
    "        list1.append(name1)\n",
    "        name1,i=\"\",\"\"\n",
    "    name1+=i\n",
    "else:\n",
    "    list1.append(name1)\n",
    "print list1"
   ]
  },
  {
   "cell_type": "code",
   "execution_count": 4,
   "metadata": {
    "collapsed": false
   },
   "outputs": [
    {
     "name": "stdout",
     "output_type": "stream",
     "text": [
      "enter the actual string: My name is Sagar Gaddam, Hi Sagar, Hello Sagar\n",
      "enter the sorucestring to find: Sagar\n",
      "enter the destination string to replace: Chintu\n",
      "enter a number to replace source string's occurence with destination string: 2\n",
      "replaced Sagar with Chintu and after replacing new string is My name is Sagar Gaddam, Hi Chintu, Hello Sagar\n"
     ]
    }
   ],
   "source": [
    "#30. Take actuual string, soucrce string, destination string. replce first nth occurances of soucestring with destination \\\n",
    "#    string \n",
    "x=0\n",
    "string1 = \"\"\n",
    "actualstring = raw_input(\"enter the actual string: \")\n",
    "sourcestring = raw_input(\"enter the sorucestring to find: \")\n",
    "deststring = raw_input(\"enter the destination string to replace: \")\n",
    "occurence = input(\"enter a number to replace source string's occurence with destination string: \")\n",
    "for i in range(len(actualstring)):\n",
    "    if actualstring[i:i+len(sourcestring)]==sourcestring:\n",
    "        x+=1\n",
    "        if x==occurence:\n",
    "            string1+=deststring\n",
    "            i+=len(sourcestring)\n",
    "            break\n",
    "    string1+=actualstring[i]\n",
    "string1 += actualstring[i:]\n",
    "print \"replaced {0} with {1} and after replacing new string is {2}\".format(sourcestring,deststring,string1)"
   ]
  },
  {
   "cell_type": "code",
   "execution_count": 41,
   "metadata": {
    "collapsed": false
   },
   "outputs": [
    {
     "name": "stdout",
     "output_type": "stream",
     "text": [
      "enter numbers into list one by one: 23\n",
      "enter numbers into list one by one: 64\n",
      "enter numbers into list one by one: 23\n",
      "enter numbers into list one by one: 76\n",
      "enter numbers into list one by one: 34\n",
      "enter numbers into list one by one: 87\n",
      "enter numbers into list one by one: 356\n",
      "enter numbers into list one by one: \n",
      "[23, 64, 23, 76, 34, 87, 356]\n",
      "min number of the list is 23\n",
      "max number of the list is 356\n",
      "sum of the entered numbers is 663\n",
      "average of the entered numbers is 94.71\n"
     ]
    }
   ],
   "source": [
    "#31. Taake numbers from the user and findout min, maximum, sum, average\n",
    "list1=[]\n",
    "while True:\n",
    "    x = raw_input(\"enter numbers into list one by one: \")\n",
    "    if x == \"\":\n",
    "        break\n",
    "    else:\n",
    "        list1.append(int(x))\n",
    "print list1\n",
    "for i in range(len(list1)-1,0,-1):\n",
    "    for j in range(i):\n",
    "        if list1[j]>list1[j+1]:\n",
    "            m = list1[j]\n",
    "            list1[j] = list1[j+1]\n",
    "            list1[j+1]=m\n",
    "summ = 0            \n",
    "for i in list1:\n",
    "    summ +=i\n",
    "avg = float(summ)/len(list1)\n",
    "print \"min number of the list is {0}\".format(list1[0])\n",
    "print \"max number of the list is {0}\".format(list1[len(list1)-1])\n",
    "print \"sum of the entered numbers is {0}\".format(summ)\n",
    "print \"average of the entered numbers is {0:.2f}\".format(avg)"
   ]
  },
  {
   "cell_type": "code",
   "execution_count": 48,
   "metadata": {
    "collapsed": false
   },
   "outputs": [
    {
     "name": "stdout",
     "output_type": "stream",
     "text": [
      "[10, 20, 30, 40, 50, 60, 70, 80, 90, 20]\n"
     ]
    }
   ],
   "source": [
    "#32. l=[10,20,30,[40,50,60],70,[80,90,20]]. Convert this list as sigle dimentiona list\n",
    "l=[10,20,30,[40,50,60],70,[80,90,20]]\n",
    "list1=[]\n",
    "for i in l:\n",
    "    if type(i) in [list,tuple]:\n",
    "        for j in i:\n",
    "            list1.append(j)\n",
    "    else:\n",
    "        list1.append(i)\n",
    "print list1"
   ]
  },
  {
   "cell_type": "code",
   "execution_count": 51,
   "metadata": {
    "collapsed": false
   },
   "outputs": [
    {
     "name": "stdout",
     "output_type": "stream",
     "text": [
      "enter a word to count repetitions of each character: sagar gaddam\n",
      "s repeated 1 times in sagar gaddam\n",
      "a repeated 4 times in sagar gaddam\n",
      "g repeated 2 times in sagar gaddam\n",
      "r repeated 1 times in sagar gaddam\n",
      "  repeated 1 times in sagar gaddam\n",
      "d repeated 2 times in sagar gaddam\n",
      "m repeated 1 times in sagar gaddam\n"
     ]
    }
   ],
   "source": [
    "#33. input: \"google\" print count of each character \n",
    "char = \"google\"\n",
    "char = raw_input(\"enter a word to count repetitions of each character: \")\n",
    "list1=[]\n",
    "for i in char:\n",
    "    if i in list1:\n",
    "        continue\n",
    "    list1.append(i)\n",
    "    count = 0\n",
    "    for j in char:\n",
    "        if i == j:\n",
    "            count+=1\n",
    "            \n",
    "        \n",
    "    print \"{0} repeated {1} times in {2}\".format(i,count,char)"
   ]
  },
  {
   "cell_type": "code",
   "execution_count": 66,
   "metadata": {
    "collapsed": false
   },
   "outputs": [
    {
     "name": "stdout",
     "output_type": "stream",
     "text": [
      "enter a number into list: 1\n",
      "enter a number into list: 2\n",
      "enter a number into list: [4,5]\n",
      "enter a number into list: 6\n",
      "enter a number into list: \n",
      "['1', '2', ['[4,5]'], '6']\n"
     ]
    }
   ],
   "source": [
    "#34. Convert n dimentional list to single dimentiona list.\n",
    "list1=[]\n",
    "i=0\n",
    "while True:\n",
    "    x = raw_input(\"enter a number into list: \")\n",
    "    if x == \"\":\n",
    "        break\n",
    "    else:\n",
    "        if x[0]==\"[\":\n",
    "            list1.append([])\n",
    "            list1[i].append(x)\n",
    "        else:\n",
    "            list1.append(x)\n",
    "        i+=1\n",
    "print list1"
   ]
  },
  {
   "cell_type": "code",
   "execution_count": null,
   "metadata": {
    "collapsed": true
   },
   "outputs": [],
   "source": []
  },
  {
   "cell_type": "code",
   "execution_count": 68,
   "metadata": {
    "collapsed": false
   },
   "outputs": [
    {
     "name": "stdout",
     "output_type": "stream",
     "text": [
      "[10, 20, 30, 40, 50, 80, 90, 60, 70, 80, 90, 20]\n"
     ]
    }
   ],
   "source": [
    "#34. Convert n dimentional list to single dimentiona list.\n",
    "l=[10,20,30,[40,50,[80,90],60],70,[80,90,20]]\n",
    "list1=[]\n",
    "for i in l:\n",
    "    if type(i) in [list,tuple]:\n",
    "        for j in i:\n",
    "            if type(j) in [list,tuple]:\n",
    "                for k in j:\n",
    "                    list1.append(k)\n",
    "            else:\n",
    "                #list1.append()\n",
    "                list1.append(j)\n",
    "    else:\n",
    "        list1.append(i)\n",
    "print list1"
   ]
  },
  {
   "cell_type": "code",
   "execution_count": 71,
   "metadata": {
    "collapsed": false
   },
   "outputs": [
    {
     "name": "stdout",
     "output_type": "stream",
     "text": [
      "123\n"
     ]
    }
   ],
   "source": [
    "#35. l=[1,2,3] just make it as a string.\n",
    "l=[1,2,3]\n",
    "#print str(l)\n",
    "string1 = \"\"\n",
    "for i in l:\n",
    "    string1+=str(i)\n",
    "    \n",
    "print string1"
   ]
  },
  {
   "cell_type": "code",
   "execution_count": 74,
   "metadata": {
    "collapsed": false
   },
   "outputs": [
    {
     "name": "stdout",
     "output_type": "stream",
     "text": [
      "[1, 2, 3, 4, 5, 6, 7, 8, 9, 10]\n"
     ]
    }
   ],
   "source": [
    "#l=[1,2,3,[4,5,6],7,[8,9,10]] for single dimentional list\n",
    "l=[1,2,3,[4,5,6],7,[8,9,10]] \n",
    "list1=[]\n",
    "for i in l:\n",
    "    if type(i) in [list,tuple]:\n",
    "        for j in i:\n",
    "            list1.append(j)\n",
    "    else:\n",
    "        list1.append(i)\n",
    "print list1"
   ]
  },
  {
   "cell_type": "code",
   "execution_count": 13,
   "metadata": {
    "collapsed": false
   },
   "outputs": [
    {
     "name": "stdout",
     "output_type": "stream",
     "text": [
      "A repeated 5 times in given list\n",
      "b repeated 3 times in given list\n",
      "d repeated 3 times in given list\n",
      "c repeated 2 times in given list\n",
      "enter a character to search in the list: b\n",
      "b found at index 2 in the list\n"
     ]
    }
   ],
   "source": [
    "#37. l=['a','A','b','B','d','D','c','C'] WAP to find out case insensitive count and case insensitive search for an element.\n",
    "l=['A','a','b','B','d','D','a','c','A','C','a','B','d']\n",
    "count=0\n",
    "list1=[]\n",
    "for i in range(len(l)):\n",
    "    count=1\n",
    "    if l[i] not in list1:\n",
    "            for j in l[i+1:]:\n",
    "                if l[i] == j or l[i] == j.lower() or l[i] == j.upper():\n",
    "                    count+=1\n",
    "                    if j not in list1:\n",
    "                        list1.append(j)\n",
    "            if l[i] not in list1:\n",
    "                list1.append(l[i]) \n",
    "            print \"{0} repeated {1} times in given list\".format(l[i],count)\n",
    "\n",
    "search1 = raw_input(\"enter a character to search in the list: \")\n",
    "for m in range(len(l)):\n",
    "    if search1 == l[m] or search1 == l[m].upper() or search1 == l[m].lower():\n",
    "        print \"{1} found at index {0} in the list\".format(m,search1)\n",
    "        break\n",
    "else:\n",
    "    print \"{0} is not in list\".format(search1)"
   ]
  },
  {
   "cell_type": "code",
   "execution_count": 18,
   "metadata": {
    "collapsed": false
   },
   "outputs": [
    {
     "name": "stdout",
     "output_type": "stream",
     "text": [
      "['A', 'B', 'C', 'D', 'a', 'b', 'c', 'd']\n"
     ]
    }
   ],
   "source": [
    "#38.l=['a','A','b','B','d','D','c','C']  sort the list properly\n",
    "list1=['a','A','b','B','d','D','c','C'] \n",
    "for i in range(len(list1)-1,0,-1):\n",
    "    for j in range(i):\n",
    "        #print list1\n",
    "        if list1[j]>list1[j+1]:\n",
    "            m = list1[j]\n",
    "            list1[j] = list1[j+1]\n",
    "            list1[j+1]=m\n",
    "            #print list1\n",
    "print list1"
   ]
  },
  {
   "cell_type": "code",
   "execution_count": 39,
   "metadata": {
    "collapsed": false
   },
   "outputs": [
    {
     "name": "stdout",
     "output_type": "stream",
     "text": [
      "largest block in the string 'My name is Gaddam Sagar' found at index 11\n"
     ]
    }
   ],
   "source": [
    "#39. find the start position of the largest block of repeated characters in a given string\n",
    "string1 = \"My name is Gaddam Sagar\"\n",
    "def stringtodict(string1):\n",
    "    j=0\n",
    "    k,list1,dict1=\"\",[],{}\n",
    "    for i in string1:\n",
    "        if i == \" \":\n",
    "            list1.append(k)\n",
    "            dict1[j]=k\n",
    "            k=\"\"\n",
    "            j=0\n",
    "        else:\n",
    "            k+=i\n",
    "            j+=1\n",
    "    else:\n",
    "        list1.append(k)\n",
    "        dict1[j]=k\n",
    "    return dict1\n",
    "\n",
    "def sortinglist(list2):\n",
    "    for i in range(len(list2)-1,0,-1):\n",
    "        for j in range(i):\n",
    "            if list2[j]>list2[j+1]:\n",
    "                m = list2[j]\n",
    "                list2[j] = list2[j+1]\n",
    "                list2[j+1]=m\n",
    "    return list2\n",
    "\n",
    "dict1 = stringtodict(string1)\n",
    "list2 = sortinglist(dict1.keys())   \n",
    "biggestnum = list2[len(list2)-1]\n",
    "biggeststring = dict1[biggestnum]\n",
    "\n",
    "for i in range(len(string1)):\n",
    "    if string1[i:len(biggeststring)+i]==biggeststring:\n",
    "        print \"largest block in the string '{1}' found at index {0}\".format(i,string1)\n",
    "        break"
   ]
  },
  {
   "cell_type": "code",
   "execution_count": 14,
   "metadata": {
    "collapsed": false
   },
   "outputs": [
    {
     "name": "stdout",
     "output_type": "stream",
     "text": [
      "enter the elements into list1\n",
      "1\n",
      "2\n",
      "3\n",
      "4\n",
      "\n",
      "enter the elements into list2\n",
      "2\n",
      "3\n",
      "5\n",
      "7\n",
      "\n",
      "list1 is  [1, 2, 3, 4]\n",
      "list2 is  [2, 3, 5, 7]\n",
      "union of two lists is  [1, 2, 3, 4, 5, 7]\n",
      "intersection of two lists is  [2, 3]\n"
     ]
    }
   ],
   "source": [
    "#40. WAP to find union and intersection of lists.\n",
    "def listinputs():\n",
    "    list1=[]\n",
    "    while True:\n",
    "        x = raw_input(\"\")\n",
    "        if x == \"\":\n",
    "            return list1\n",
    "        else:\n",
    "            list1.append(int(x))\n",
    "\n",
    "def intersection(list1,list2):\n",
    "    list3=[]\n",
    "    for i in list1:\n",
    "        if i in list2 and i not in list3:\n",
    "            list3.append(i)\n",
    "    return list3\n",
    "\n",
    "def union1(list1,list2):\n",
    "    list3=[]\n",
    "    for i in list1:\n",
    "        if i not in list3:\n",
    "            list3.append(i)\n",
    "    for j in list2:\n",
    "        if j not in list3:\n",
    "            list3.append(j)\n",
    "    return list3\n",
    "\n",
    "print \"enter the elements into list1\"\n",
    "list1 = listinputs()\n",
    "print \"enter the elements into list2\"\n",
    "list2 = listinputs()\n",
    "print \"list1 is \",list1\n",
    "print \"list2 is \",list2\n",
    "print \"union of two lists is \",union1(list1,list2)\n",
    "print \"intersection of two lists is \",intersection(list1,list2)"
   ]
  },
  {
   "cell_type": "code",
   "execution_count": 19,
   "metadata": {
    "collapsed": false
   },
   "outputs": [
    {
     "name": "stdout",
     "output_type": "stream",
     "text": [
      "[1, 2, 3, 4, 3, 2, 1]\n"
     ]
    }
   ],
   "source": [
    "#41. input: fun(5) output: [1,2,3,4,3,2,1]\n",
    "def fun(x):\n",
    "    list1 = []\n",
    "    for i in range(x-1):\n",
    "        list1.append(i+1)\n",
    "    for j in range(x-2,0,-1):\n",
    "        list1.append(j)\n",
    "    print list1\n",
    "\n",
    "fun(5)"
   ]
  },
  {
   "cell_type": "code",
   "execution_count": 39,
   "metadata": {
    "collapsed": false
   },
   "outputs": [
    {
     "name": "stdout",
     "output_type": "stream",
     "text": [
      "[[], ['a'], ['b'], ['c'], ['a', 'b'], ['b', 'c'], ['c', 'a'], ['a', 'b', 'c']]\n"
     ]
    }
   ],
   "source": [
    "#42.input fun('abc') output: [[],][a],[b],[c],[a,b],[b,c],[c,a],[a,b,c]]\n",
    "def fun(string1):\n",
    "    list1=[]\n",
    "    list2=[]\n",
    "    list1.append([])\n",
    "    for i in string1:\n",
    "        list1.append([i])\n",
    "    for j in range(len(string1),0,-1):\n",
    "        list2.append(string1[-j])\n",
    "        list2.append(string1[-j+1])\n",
    "        list1.append(list2)\n",
    "        list2=[]\n",
    "    for j in range(len(string1)):\n",
    "        list2.append(string1[j])\n",
    "    list1.append(list2)\n",
    "        \n",
    "    return list1\n",
    "\n",
    "print fun('abc')   "
   ]
  },
  {
   "cell_type": "code",
   "execution_count": 52,
   "metadata": {
    "collapsed": false
   },
   "outputs": [
    {
     "name": "stdout",
     "output_type": "stream",
     "text": [
      "[1, 2, 3, 4]\n"
     ]
    }
   ],
   "source": [
    "#43. Remove duplicates from the list: a=[1,2,3,2,3,4,1,,3,4]\n",
    "a=[1,2,3,2,3,4,1,3,4]\n",
    "def remdup(list1):\n",
    "    list2=[]\n",
    "    for i in list1:\n",
    "        if i not in list2:\n",
    "            list2.append(i)\n",
    "        \n",
    "    return list2\n",
    "\n",
    "print remdup(a)"
   ]
  },
  {
   "cell_type": "code",
   "execution_count": 54,
   "metadata": {
    "collapsed": false
   },
   "outputs": [
    {
     "name": "stdout",
     "output_type": "stream",
     "text": [
      "6\n"
     ]
    }
   ],
   "source": [
    "#44. l=['1','2','3'] get the sum of the list\n",
    "l=['1','2','3']\n",
    "def summ(list1):\n",
    "    l=0\n",
    "    for i in list1:\n",
    "        l+=int(i)\n",
    "    return l\n",
    "\n",
    "print summ(l)"
   ]
  },
  {
   "cell_type": "code",
   "execution_count": 58,
   "metadata": {
    "collapsed": false
   },
   "outputs": [
    {
     "name": "stdout",
     "output_type": "stream",
     "text": [
      "sum of two lists is:  36\n"
     ]
    }
   ],
   "source": [
    "#45. l1=[1,2,3,4] l2=[5,6,7,8] sum of two lists\n",
    "def summ(list1):\n",
    "    l=0\n",
    "    for i in list1:\n",
    "        l+=int(i)\n",
    "    return l\n",
    "l1=[1,2,3,4]\n",
    "l2=[5,6,7,8]\n",
    "print \"sum of two lists is: \",summ(l2)+summ(l1)"
   ]
  },
  {
   "cell_type": "code",
   "execution_count": 9,
   "metadata": {
    "collapsed": false
   },
   "outputs": [
    {
     "name": "stdout",
     "output_type": "stream",
     "text": [
      "enter the list elements:\n",
      "2\n",
      "5\n",
      "1\n",
      "8\n",
      "7\n",
      "\n",
      "[2, 5, 1, 8, 7]\n",
      "third last element in list [1, 2, 5, 7, 8] is 5\n"
     ]
    }
   ],
   "source": [
    "#46. Find third max value of element in a list with soring and without sorting a list.\n",
    "def listinput():\n",
    "    list1=[]\n",
    "    while True:\n",
    "        x = raw_input()\n",
    "        if x == \"\":\n",
    "            break\n",
    "        else:\n",
    "            list1.append(int(x))\n",
    "    return list1\n",
    "    \n",
    "def sort1(list1):\n",
    "    for i in range(len(list1)-1,0,-1):\n",
    "        for j in range(i):\n",
    "            if list1[j]>list1[j+1]:\n",
    "                temp = list1[j]\n",
    "                list1[j]=list1[j+1]\n",
    "                list1[j+1] = temp\n",
    "    return list1\n",
    "print \"enter the list elements:\"\n",
    "list2 = listinput()\n",
    "print list2\n",
    "sortedlist = sort1(list2)\n",
    "print \"third last element in list {0} is {1}\".format(list2,sortedlist[2])\n"
   ]
  },
  {
   "cell_type": "code",
   "execution_count": null,
   "metadata": {
    "collapsed": true
   },
   "outputs": [],
   "source": [
    "#47. Input = [\"1/1\",\"1/2\",\"1/3\",\"1/4\",\"2/5\",\"2/6\",\"2/8\"] Output = [['1/1-4'], ['2/5-6'], ['2/8']]\n"
   ]
  },
  {
   "cell_type": "code",
   "execution_count": null,
   "metadata": {
    "collapsed": true
   },
   "outputs": [],
   "source": [
    "#48. l=[1,2,3,5,7,8,9,10,11,12,13,20,22,23,24,25,26,27,20,21,22,4] \n",
    "#output = [[1, 2, 3], [5], [7, 8, 9, 10, 11, 12, 13], [20], [22, 23, 24, 25, 26, 27], [20, 21, 22], [4]]\n"
   ]
  },
  {
   "cell_type": "code",
   "execution_count": 11,
   "metadata": {
    "collapsed": false
   },
   "outputs": [
    {
     "name": "stdout",
     "output_type": "stream",
     "text": [
      "['odd', 'even', 'odd', 'even', 'odd', 'even', 'even', 'even']\n"
     ]
    }
   ],
   "source": [
    "#49. input = 1,2,3,4,5,6,8,10 output = odd,even,odd,even,odd,even,even,even\n",
    "def evenodd(x):\n",
    "    if x%2==0:\n",
    "        return \"even\"\n",
    "    else:\n",
    "        return \"odd\"\n",
    "\n",
    "list1=[1,2,3,4,5,6,8,10]\n",
    "list2=[]\n",
    "for i in list1:\n",
    "    list2.append(evenodd(i))\n",
    "\n",
    "print list2"
   ]
  },
  {
   "cell_type": "code",
   "execution_count": 25,
   "metadata": {
    "collapsed": false
   },
   "outputs": [
    {
     "name": "stdout",
     "output_type": "stream",
     "text": [
      "enter the number to print pattern:3\n",
      "111\n",
      "101\n",
      "111\n",
      "\n"
     ]
    }
   ],
   "source": [
    "#50. input n=3 \n",
    "#output:111\n",
    "#       101\n",
    "#       111\n",
    "m=\"\"\n",
    "n=input(\"enter the number to print pattern:\")\n",
    "for i in range(n):\n",
    "    for j in range(n):\n",
    "        if i==0 or j==0 or i==n-1 or j == n-1:\n",
    "            m+=\"1\"\n",
    "        else:\n",
    "            m+=\"0\"\n",
    "    m+=\"\\n\"\n",
    "print m"
   ]
  },
  {
   "cell_type": "code",
   "execution_count": 26,
   "metadata": {
    "collapsed": false
   },
   "outputs": [
    {
     "name": "stdout",
     "output_type": "stream",
     "text": [
      "enter the number to print pattern:4\n",
      "1111\n",
      "1001\n",
      "1001\n",
      "1111\n",
      "\n"
     ]
    }
   ],
   "source": [
    "#50. input n=3 \n",
    "#output:111\n",
    "#       101\n",
    "#       111\n",
    "m=\"\"\n",
    "n=input(\"enter the number to print pattern:\")\n",
    "for i in range(n):\n",
    "    for j in range(n):\n",
    "        if i==0 or j==0 or i==n-1 or j == n-1:\n",
    "            m+=\"1\"\n",
    "        else:\n",
    "            m+=\"0\"\n",
    "    m+=\"\\n\"\n",
    "print m"
   ]
  },
  {
   "cell_type": "code",
   "execution_count": null,
   "metadata": {
    "collapsed": true
   },
   "outputs": [],
   "source": [
    "#51. input: google   output: {'g':2,'o':2,'l':1,'e':1} use dictionary comprehension\n"
   ]
  },
  {
   "cell_type": "code",
   "execution_count": 30,
   "metadata": {
    "collapsed": false
   },
   "outputs": [
    {
     "name": "stdout",
     "output_type": "stream",
     "text": [
      "{'k2': 'v2', 'k1': 'v1'}\n"
     ]
    }
   ],
   "source": [
    "#52. keys=['k1','k2'], values = ['v1','v2'] form a dictionary.\n",
    "def liststodict(keys,values):\n",
    "    dict1={}\n",
    "    for i in range(len(keys)):\n",
    "        dict1[keys[i]]=values[i]\n",
    "    return dict1\n",
    "\n",
    "keys=['k1','k2']\n",
    "values=['v1','v2']\n",
    "print liststodict(keys,values)"
   ]
  },
  {
   "cell_type": "code",
   "execution_count": 16,
   "metadata": {
    "collapsed": false
   },
   "outputs": [
    {
     "name": "stdout",
     "output_type": "stream",
     "text": [
      "satish : 90\n",
      "mohan : 80\n",
      "purnesh : 40\n",
      "venkat : 30\n"
     ]
    }
   ],
   "source": [
    "#53. Sort the list marks = [(\"mohan\", 80), (\"satish\", 90), (\"purnesh\", 40), (\"venkat\", 30)] acording to descending order of marks\n",
    "marks = [(\"mohan\", 80), (\"satish\", 90), (\"purnesh\", 40), (\"venkat\", 30)]\n",
    "dict1={}\n",
    "for i in marks:\n",
    "    dict1[i[1]]=i[0]\n",
    "    \n",
    "#print dict1\n",
    "\n",
    "def sortingfun(list1):\n",
    "    for i in range(len(list1)-1,0,-1):\n",
    "        for j in range(i):\n",
    "            if list1[j]>list1[j+1]:\n",
    "                temp = list1[j]\n",
    "                list1[j] = list1[j+1]\n",
    "                list1[j+1] = temp\n",
    "    return list1\n",
    "\n",
    "sortedlist = sortingfun(dict1.keys())\n",
    "for j in sortedlist[::-1]:\n",
    "    print dict1[j],\":\",j"
   ]
  },
  {
   "cell_type": "code",
   "execution_count": null,
   "metadata": {
    "collapsed": true
   },
   "outputs": [],
   "source": [
    "#54. write a function to get dynamic list for floating numbers also based on start and end and step parameters\n"
   ]
  },
  {
   "cell_type": "code",
   "execution_count": 15,
   "metadata": {
    "collapsed": false
   },
   "outputs": [
    {
     "name": "stdout",
     "output_type": "stream",
     "text": [
      "This program will find out all perfect numbers\n",
      "enter starting range: 0\n",
      "enter ending range: 500\n",
      "perfect numbers between 0 and 500 are [6, 28, 496]\n"
     ]
    }
   ],
   "source": [
    "#55. find out all perfect numbers in given range\n",
    "print \"This program will find out all perfect numbers\"\n",
    "num1 = input(\"enter starting range: \")\n",
    "num2 = input(\"enter ending range: \")\n",
    "list2=[]\n",
    "for j in range(num1,num2):\n",
    "    list1=[]\n",
    "    for i in range(1,j):\n",
    "        if j%i==0:\n",
    "            list1.append(i)\n",
    "    if sum(list1)==j and list1:\n",
    "        list2.append(j)\n",
    "        #print \"perfect\",j\n",
    "print \"perfect numbers between {0} and {1} are {2}\".format(num1,num2,list2)"
   ]
  },
  {
   "cell_type": "code",
   "execution_count": null,
   "metadata": {
    "collapsed": true
   },
   "outputs": [],
   "source": [
    "#56. WAP to do all stack operations using lists\n",
    "class StackOps():\n",
    "    def __init__(s,item1):\n",
    "        s.item1=item1\n",
    "    def pop1():\n",
    "        \n"
   ]
  },
  {
   "cell_type": "code",
   "execution_count": null,
   "metadata": {
    "collapsed": true
   },
   "outputs": [],
   "source": [
    "#57. WAP to do all queue operations using lists\n"
   ]
  },
  {
   "cell_type": "code",
   "execution_count": null,
   "metadata": {
    "collapsed": true
   },
   "outputs": [],
   "source": [
    "#58. WAP to remove n occurances of specified element from a list\n"
   ]
  },
  {
   "cell_type": "code",
   "execution_count": null,
   "metadata": {
    "collapsed": true
   },
   "outputs": [],
   "source": [
    "#59. copy 1 file content in to another file(Take the source and destination file path from the user)"
   ]
  },
  {
   "cell_type": "code",
   "execution_count": null,
   "metadata": {
    "collapsed": true
   },
   "outputs": [],
   "source": [
    "#60. Show the below menu to the user:\n",
    "#     1. Add a row\n",
    "#     2. modify a row\n",
    "#     3. delete a row\n",
    "#     Go with one unique field in the file. And maintain that unique constraint in all file modifiction operations\n",
    "#     Use .CSV file for this program\n"
   ]
  },
  {
   "cell_type": "code",
   "execution_count": null,
   "metadata": {
    "collapsed": true
   },
   "outputs": [],
   "source": [
    "#61. number of lines, words, characters\n"
   ]
  },
  {
   "cell_type": "code",
   "execution_count": null,
   "metadata": {
    "collapsed": true
   },
   "outputs": [],
   "source": [
    "#62. convert .txt file in .json\n"
   ]
  },
  {
   "cell_type": "code",
   "execution_count": null,
   "metadata": {
    "collapsed": true
   },
   "outputs": [],
   "source": [
    "#63. Take three columns disease, symptoms, advice in a file and fill the details\n",
    "#     Ask the user to enter symptoms. Based on this symptoms Suggest the user to what disease it may be and few advices."
   ]
  },
  {
   "cell_type": "code",
   "execution_count": null,
   "metadata": {
    "collapsed": true
   },
   "outputs": [],
   "source": [
    "#64. Take employees info (id,name, age, adress, sal, height, weight)\n",
    "#a. Take id, provide employee information for that id.\n",
    "#b. find out average salary.\n",
    "#c. find out which age, address taking the heighest salary \n",
    "#d. find out every employee BMI value\n",
    "#e. Finally find out the Organization overall BMI\n"
   ]
  },
  {
   "cell_type": "code",
   "execution_count": null,
   "metadata": {
    "collapsed": true
   },
   "outputs": [],
   "source": [
    "#65.read the file which contains the size greater than your ram size\n"
   ]
  },
  {
   "cell_type": "code",
   "execution_count": null,
   "metadata": {
    "collapsed": true
   },
   "outputs": [],
   "source": [
    "#66. Read ten gb movie\n"
   ]
  },
  {
   "cell_type": "code",
   "execution_count": null,
   "metadata": {
    "collapsed": true
   },
   "outputs": [],
   "source": [
    "#67. Collect emp information in a file Provide these operations.\n",
    "#      Menu:\n",
    "#     1. Get information information of an employee\n",
    "#     2. Modify employee information\n",
    "#     3. delete an employee information (Only status field change in the employee file)\n",
    "#     4. Add an employee.\n"
   ]
  },
  {
   "cell_type": "code",
   "execution_count": null,
   "metadata": {
    "collapsed": true
   },
   "outputs": [],
   "source": [
    "#68. Take Source and destination file paths from command line arguments and copy the sourcontent into destination.\n",
    "#    Make Sure that your program checking the below conditions.\n",
    "#     1.if the source file not there. Should ask the user to enter new source file or want to quit a program\n",
    "#     2.if the destination file already there in the specified path. Should warn the user want to proceed or want to enter new destination file name or want to quit\n"
   ]
  },
  {
   "cell_type": "code",
   "execution_count": null,
   "metadata": {
    "collapsed": true
   },
   "outputs": [],
   "source": [
    "#69. Bulk file copy. \n",
    "#     Take source and destination file paths from a file and copy the source file content into destination file.\n",
    "#     Maintain configuration file and put the below fields there\n",
    "#      Source not found: Skip the copy\n",
    "#      destination found: skip/replace\n",
    "#     maintain a remarks log. What are the files skiped from copy because no source file found. What are the files skip/replaced because of destination file foun in the specified path\n",
    "\n",
    "#understanding: user can edit conf file, program should check conf file and proceed with operations\n",
    "\n"
   ]
  },
  {
   "cell_type": "code",
   "execution_count": null,
   "metadata": {
    "collapsed": true
   },
   "outputs": [],
   "source": [
    "#70. Write a class(DB) program to create a table, insert values, update values, delete values of the table. \n",
    "#All database operations code write in a file(db_operations.py) and call these operations in another file( app.py).\n",
    "#In app.py create instance of the DB class and call all the methods by passing some data.\n",
    "#Note: if you don’t have knowledge on db operations then write for file operations.\n"
   ]
  },
  {
   "cell_type": "code",
   "execution_count": 33,
   "metadata": {
    "collapsed": false
   },
   "outputs": [
    {
     "name": "stdout",
     "output_type": "stream",
     "text": [
      "child class create method\n",
      "parent class create method\n",
      "insert code\n"
     ]
    }
   ],
   "source": [
    "#71. write a program to do registration.\n",
    "#     Write a methods in a class DB to open database connection and insert details in to database table. \n",
    "#Write a Model parent class and implement a create method. Call a database insert method into the create  method. \n",
    "#Write child class person for Model and override method create method and call the parent(Model) class create method in the child(person) \n",
    "\n",
    "#in progress\n",
    "\n",
    "class DataBase1:\n",
    "    def insert(s):\n",
    "        #write code to insert values into db table\n",
    "        print \"insert code\"\n",
    "        pass\n",
    "\n",
    "class Model:\n",
    "    dbobj=DataBase1()\n",
    "    def create(s):\n",
    "        print \"parent class create method\"\n",
    "        s.dbobj.insert()\n",
    "        pass\n",
    "    \n",
    "class Person(Model):\n",
    "    def create(s):\n",
    "        print \"child class create method\"\n",
    "        Model.create(s)\n",
    "        pass\n",
    "\n",
    "#par_obj = Model()\n",
    "#par_obj.create()\n",
    "child_obj = Person()\n",
    "child_obj.create()"
   ]
  },
  {
   "cell_type": "code",
   "execution_count": 32,
   "metadata": {
    "collapsed": false
   },
   "outputs": [
    {
     "name": "stdout",
     "output_type": "stream",
     "text": [
      "70\n",
      "50\n",
      "8000\n"
     ]
    }
   ],
   "source": [
    "##72. create a user defined datatype, and provide functionalities of addition substraction and multiplication. \n",
    "#Create three instances(obj1,obj2,obj3) and print an output of obj1+obj2+obj3, obj1-obj2-obj3, obj1*obj2*obj3 \n",
    "\n",
    "#done\n",
    "\n",
    "class Operations():\n",
    "    def __init__(s,a):\n",
    "        s.a = a\n",
    "        \n",
    "    def __radd__(s,saga):\n",
    "        return s.a + saga\n",
    "    def __rsub__(s,saga):\n",
    "        return s.a - saga\n",
    "    def __rmul__(s,saga):\n",
    "        return s.a * saga\n",
    "        \n",
    "    \n",
    "obj1 = Operations(10)\n",
    "obj2 = Operations(20)\n",
    "obj3 = Operations(40)\n",
    "print obj1+obj2+obj3\n",
    "print obj1-obj2-obj3\n",
    "print obj1*obj2*obj3\n",
    "#print obj1.__radd__(10)\n",
    "\n"
   ]
  },
  {
   "cell_type": "code",
   "execution_count": 30,
   "metadata": {
    "collapsed": false
   },
   "outputs": [
    {
     "ename": "TypeError",
     "evalue": "unsupported operand type(s) for +: 'dict' and 'dict'",
     "output_type": "error",
     "traceback": [
      "\u001b[0;31m---------------------------------------------------------------------------\u001b[0m",
      "\u001b[0;31mTypeError\u001b[0m                                 Traceback (most recent call last)",
      "\u001b[0;32m<ipython-input-30-795c2ef133e4>\u001b[0m in \u001b[0;36m<module>\u001b[0;34m()\u001b[0m\n\u001b[1;32m     23\u001b[0m \u001b[0mo1\u001b[0m \u001b[1;33m=\u001b[0m \u001b[0mC1\u001b[0m\u001b[1;33m(\u001b[0m\u001b[0ma\u001b[0m\u001b[1;33m,\u001b[0m\u001b[0mb\u001b[0m\u001b[1;33m)\u001b[0m\u001b[1;33m\u001b[0m\u001b[0m\n\u001b[1;32m     24\u001b[0m \u001b[0mo2\u001b[0m \u001b[1;33m=\u001b[0m \u001b[0mC1\u001b[0m\u001b[1;33m(\u001b[0m\u001b[0mb\u001b[0m\u001b[1;33m,\u001b[0m\u001b[0ma\u001b[0m\u001b[1;33m)\u001b[0m\u001b[1;33m\u001b[0m\u001b[0m\n\u001b[0;32m---> 25\u001b[0;31m \u001b[1;32mprint\u001b[0m \u001b[0mo1\u001b[0m\u001b[1;33m+\u001b[0m\u001b[0mo2\u001b[0m\u001b[1;33m\u001b[0m\u001b[0m\n\u001b[0m\u001b[1;32m     26\u001b[0m \u001b[1;32mprint\u001b[0m \u001b[0mo1\u001b[0m\u001b[1;33m-\u001b[0m\u001b[0mo2\u001b[0m\u001b[1;33m\u001b[0m\u001b[0m\n\u001b[1;32m     27\u001b[0m \u001b[1;32mprint\u001b[0m \u001b[0mo1\u001b[0m\u001b[1;33m*\u001b[0m\u001b[0mo2\u001b[0m\u001b[1;33m\u001b[0m\u001b[0m\n",
      "\u001b[0;32m<ipython-input-30-795c2ef133e4>\u001b[0m in \u001b[0;36m__add__\u001b[0;34m(obj1, obj2)\u001b[0m\n\u001b[1;32m     12\u001b[0m \u001b[1;33m\u001b[0m\u001b[0m\n\u001b[1;32m     13\u001b[0m     \u001b[1;32mdef\u001b[0m \u001b[0m__add__\u001b[0m\u001b[1;33m(\u001b[0m\u001b[0mobj1\u001b[0m\u001b[1;33m,\u001b[0m\u001b[0mobj2\u001b[0m\u001b[1;33m)\u001b[0m\u001b[1;33m:\u001b[0m\u001b[1;33m\u001b[0m\u001b[0m\n\u001b[0;32m---> 14\u001b[0;31m         \u001b[1;32mreturn\u001b[0m \u001b[0mobj1\u001b[0m\u001b[1;33m.\u001b[0m\u001b[0ma\u001b[0m\u001b[1;33m+\u001b[0m\u001b[0mobj2\u001b[0m\u001b[1;33m.\u001b[0m\u001b[0ma\u001b[0m\u001b[1;33m,\u001b[0m\u001b[0mobj1\u001b[0m\u001b[1;33m.\u001b[0m\u001b[0mb\u001b[0m\u001b[1;33m+\u001b[0m\u001b[0mobj2\u001b[0m\u001b[1;33m.\u001b[0m\u001b[0mb\u001b[0m\u001b[1;33m\u001b[0m\u001b[0m\n\u001b[0m\u001b[1;32m     15\u001b[0m \u001b[1;33m\u001b[0m\u001b[0m\n\u001b[1;32m     16\u001b[0m     \u001b[1;32mdef\u001b[0m \u001b[0m__sub__\u001b[0m\u001b[1;33m(\u001b[0m\u001b[0mobj1\u001b[0m\u001b[1;33m,\u001b[0m\u001b[0mobj2\u001b[0m\u001b[1;33m)\u001b[0m\u001b[1;33m:\u001b[0m\u001b[1;33m\u001b[0m\u001b[0m\n",
      "\u001b[0;31mTypeError\u001b[0m: unsupported operand type(s) for +: 'dict' and 'dict'"
     ]
    }
   ],
   "source": [
    "#73. addition, substraction, multiplication operations are not supported by dictionary. \n",
    "#Write a program to provide addition, substraction, and  multiplication operations to dictionary. \n",
    "#Write your own definition for operations.\n",
    "\n",
    "#still in progres\n",
    "\n",
    "\n",
    "#write your own class and inherit the dict class properties \n",
    "\n",
    "class C1(dict):\n",
    "    def __init__(s,a,b):\n",
    "        s.a = a\n",
    "        s.b = b\n",
    "        \n",
    "    def __add__(obj1,obj2):\n",
    "        return obj1.a+obj2.a,obj1.b+obj2.b\n",
    "    \n",
    "    def __sub__(obj1,obj2):\n",
    "        return obj1.a-obj2.a,obj1.b-obj2.b\n",
    "    \n",
    "    def __mul__(obj1,obj2):\n",
    "        return obj1.a*obj2.a,obj1.b*obj2.b\n",
    "a={1:2,3:4}\n",
    "b={2:2,5:5}\n",
    "o1 = C1(a,b)\n",
    "o2 = C1(b,a)\n",
    "print o1+o2\n",
    "print o1-o2\n",
    "print o1*o2\n",
    "#dir(C1)"
   ]
  },
  {
   "cell_type": "code",
   "execution_count": 109,
   "metadata": {
    "collapsed": false
   },
   "outputs": [
    {
     "ename": "TypeError",
     "evalue": "keys() takes no arguments (1 given)",
     "output_type": "error",
     "traceback": [
      "\u001b[0;31m---------------------------------------------------------------------------\u001b[0m",
      "\u001b[0;31mTypeError\u001b[0m                                 Traceback (most recent call last)",
      "\u001b[0;32m<ipython-input-109-fea82e92f726>\u001b[0m in \u001b[0;36m<module>\u001b[0;34m()\u001b[0m\n\u001b[0;32m----> 1\u001b[0;31m \u001b[0mo1\u001b[0m\u001b[1;33m.\u001b[0m\u001b[0mkeys\u001b[0m\u001b[1;33m(\u001b[0m\u001b[0ma\u001b[0m\u001b[1;33m)\u001b[0m\u001b[1;33m\u001b[0m\u001b[0m\n\u001b[0m",
      "\u001b[0;31mTypeError\u001b[0m: keys() takes no arguments (1 given)"
     ]
    }
   ],
   "source": [
    "o1.keys()\n"
   ]
  },
  {
   "cell_type": "code",
   "execution_count": 126,
   "metadata": {
    "collapsed": false
   },
   "outputs": [
    {
     "ename": "AttributeError",
     "evalue": "'C1' object has no attribute 'a'",
     "output_type": "error",
     "traceback": [
      "\u001b[0;31m---------------------------------------------------------------------------\u001b[0m",
      "\u001b[0;31mAttributeError\u001b[0m                            Traceback (most recent call last)",
      "\u001b[0;32m<ipython-input-126-5ad51435278c>\u001b[0m in \u001b[0;36m<module>\u001b[0;34m()\u001b[0m\n\u001b[1;32m     14\u001b[0m \u001b[0ma\u001b[0m\u001b[1;33m=\u001b[0m\u001b[1;33m{\u001b[0m\u001b[1;36m1\u001b[0m\u001b[1;33m:\u001b[0m\u001b[1;36m2\u001b[0m\u001b[1;33m,\u001b[0m\u001b[1;36m3\u001b[0m\u001b[1;33m:\u001b[0m\u001b[1;36m4\u001b[0m\u001b[1;33m}\u001b[0m\u001b[1;33m\u001b[0m\u001b[0m\n\u001b[1;32m     15\u001b[0m \u001b[0mb\u001b[0m\u001b[1;33m=\u001b[0m\u001b[1;33m{\u001b[0m\u001b[1;36m2\u001b[0m\u001b[1;33m:\u001b[0m\u001b[1;36m2\u001b[0m\u001b[1;33m,\u001b[0m\u001b[1;36m5\u001b[0m\u001b[1;33m:\u001b[0m\u001b[1;36m5\u001b[0m\u001b[1;33m}\u001b[0m\u001b[1;33m\u001b[0m\u001b[0m\n\u001b[0;32m---> 16\u001b[0;31m \u001b[0mo1\u001b[0m \u001b[1;33m=\u001b[0m \u001b[0mC1\u001b[0m\u001b[1;33m(\u001b[0m\u001b[0ma\u001b[0m\u001b[1;33m)\u001b[0m\u001b[1;33m\u001b[0m\u001b[0m\n\u001b[0m\u001b[1;32m     17\u001b[0m \u001b[0mo2\u001b[0m \u001b[1;33m=\u001b[0m \u001b[0mC1\u001b[0m\u001b[1;33m(\u001b[0m\u001b[0mb\u001b[0m\u001b[1;33m)\u001b[0m\u001b[1;33m\u001b[0m\u001b[0m\n",
      "\u001b[0;32m<ipython-input-126-5ad51435278c>\u001b[0m in \u001b[0;36m__init__\u001b[0;34m(s, a)\u001b[0m\n\u001b[1;32m      2\u001b[0m \u001b[1;33m\u001b[0m\u001b[0m\n\u001b[1;32m      3\u001b[0m     \u001b[1;32mdef\u001b[0m \u001b[0m__init__\u001b[0m\u001b[1;33m(\u001b[0m\u001b[0ms\u001b[0m\u001b[1;33m,\u001b[0m\u001b[0ma\u001b[0m\u001b[1;33m)\u001b[0m\u001b[1;33m:\u001b[0m\u001b[1;33m\u001b[0m\u001b[0m\n\u001b[0;32m----> 4\u001b[0;31m        \u001b[0ms\u001b[0m\u001b[1;33m.\u001b[0m\u001b[0m__dict__\u001b[0m\u001b[1;33m.\u001b[0m\u001b[0ma\u001b[0m \u001b[1;33m=\u001b[0m \u001b[0ms\u001b[0m\u001b[1;33m.\u001b[0m\u001b[0ma\u001b[0m\u001b[1;33m\u001b[0m\u001b[0m\n\u001b[0m\u001b[1;32m      5\u001b[0m \u001b[1;33m\u001b[0m\u001b[0m\n\u001b[1;32m      6\u001b[0m     \u001b[1;32mdef\u001b[0m \u001b[0m__add__\u001b[0m\u001b[1;33m(\u001b[0m\u001b[0mobj1\u001b[0m\u001b[1;33m,\u001b[0m\u001b[0mobj2\u001b[0m\u001b[1;33m)\u001b[0m\u001b[1;33m:\u001b[0m\u001b[1;33m\u001b[0m\u001b[0m\n",
      "\u001b[0;31mAttributeError\u001b[0m: 'C1' object has no attribute 'a'"
     ]
    }
   ],
   "source": [
    "class C1(dict):\n",
    "    \n",
    "    def __init__(s,a):\n",
    "     \n",
    "        \n",
    "    def __add__(obj1,obj2):\n",
    "        return obj1.a+obj2.a,obj1.b+obj2.b\n",
    "    \n",
    "    def __sub__(obj1,obj2):\n",
    "        return obj1.a-obj2.a,obj1.b-obj2.b\n",
    "    \n",
    "    def __mul__(obj1,obj2):\n",
    "        return obj1.a*obj2.a,obj1.b*obj2.b\n",
    "a={1:2,3:4}\n",
    "b={2:2,5:5}\n",
    "o1 = C1(a)\n",
    "o2 = C1(b)"
   ]
  },
  {
   "cell_type": "code",
   "execution_count": 71,
   "metadata": {
    "collapsed": false
   },
   "outputs": [
    {
     "name": "stdout",
     "output_type": "stream",
     "text": [
      "new method in Parent's class\n",
      "30\n",
      "Existing object but not new\n",
      "300\n",
      "Existing object but not new\n",
      "3000\n",
      "IDs of three instances:  96934040 96934040 96934040\n"
     ]
    }
   ],
   "source": [
    "#74. write a class that can create only one object. IF create one more object then it should return existing object but not new.\n",
    "#Create three instances and print id’s of the instances. All the id’s should show same address.\n",
    "class Class1(object):\n",
    "    flag = False\n",
    "    def __new__(s,a,b):\n",
    "        #print \"new method in Class1\"\n",
    "        if not s.flag:\n",
    "             print \"new method in Parent's class\"\n",
    "             s.flag = super(Class1,s).__new__(s)\n",
    "        else:\n",
    "            print \"Existing object but not new\"\n",
    "        return s.flag\n",
    "             \n",
    "    def __init__(s,a,b):\n",
    "        #print \"init method\"\n",
    "        s.a = a\n",
    "        s.b = b\n",
    "        \n",
    "    def get(s):\n",
    "        return s.a+s.b\n",
    "    \n",
    "o1 = Class1(10,20)\n",
    "print o1.get()\n",
    "o2 = Class1(100,200)\n",
    "print o2.get()\n",
    "o3 = Class1(1000,2000)\n",
    "print o3.get()\n",
    "print \"IDs of three instances: \",id(o1),id(o2),id(o3)"
   ]
  },
  {
   "cell_type": "code",
   "execution_count": null,
   "metadata": {
    "collapsed": true
   },
   "outputs": [],
   "source": [
    "#75. implement class method and instance method and static method in a class with an example. \n",
    "#Create a instance and call all the methods. Write down what is class method and instance method and static method.\n",
    "\n",
    "#A staticmethod is a method that knows nothing about the class or instance it was called on. It just gets the arguments that were passed, no implicit first argument. It is basically useless in Python -- you can just use a module function instead of a staticmethod.\n",
    "\n",
    "#"
   ]
  },
  {
   "cell_type": "code",
   "execution_count": null,
   "metadata": {
    "collapsed": true
   },
   "outputs": [],
   "source": [
    "#76.  write a class program to demonstrate method overloading in python using below scenario.\n",
    "# \tWrite a class and constructor to create an instances like below\n",
    "#\ta. p1 = person(id=1,name=”ashok”,age=23,sal=56787)\n",
    "#   b. p2 = person(id=2,age=24,adhar=23456)\n",
    "#\tc. p3 = person(id=4,pan=”brcp3456”,sal=23,age=45)\t\n",
    "#make instance iterable and provide the operations p1+p2, p1-p2. Give your own definition for the operations\n",
    "\n",
    "\n"
   ]
  },
  {
   "cell_type": "code",
   "execution_count": 57,
   "metadata": {
    "collapsed": false
   },
   "outputs": [
    {
     "name": "stdout",
     "output_type": "stream",
     "text": [
      "[4, 5, 6, 7, 1, 2, 3]\n"
     ]
    }
   ],
   "source": [
    "#77. Remove duplicates elements of the list without using built in keywords and temporary list.\n",
    "class ListOps:\n",
    "    \"\"\"This class performs List operations\"\"\"\n",
    "    def __init__(s,list1):\n",
    "        s.list1 = list1\n",
    "        \n",
    "    def dupelements(s):\n",
    "        for i in s.list1:\n",
    "            if i in s.list1[s.list1.index(i)+1:]:\n",
    "                s.list1.remove(i)\n",
    "        return s.list1\n",
    "\n",
    "list1 = [1,2,3,4,5,6,7,1,2,3]\n",
    "list_ops = ListOps(list1)\n",
    "print list_ops.dupelements()"
   ]
  },
  {
   "cell_type": "code",
   "execution_count": 38,
   "metadata": {
    "collapsed": false
   },
   "outputs": [
    {
     "name": "stdout",
     "output_type": "stream",
     "text": [
      "replaced 'gaddam' with 'Sagar' 4 times in 'My name is Sagar, Hi Sagar, Hello Sagar, Wru Sagar, Hi Sagar' and new string is 'My name is gaddam, Hi gaddam, Hello gaddam, Wru gaddam, Hi Sagar'\n"
     ]
    }
   ],
   "source": [
    "#78. WAP to replace perticular number of substrings with a given destination string\n",
    "#final\n",
    "class StringOps:\n",
    "    \"\"\"This class performs string operations\"\"\"\n",
    "    def __init__(s,substring,actualstring,deststring,reps):\n",
    "        s.substring =substring\n",
    "        s.actualstring=actualstring\n",
    "        s.deststring=deststring\n",
    "        s.reps=reps\n",
    "        \n",
    "    def replacestring(s):\n",
    "        newstring = \"\"\n",
    "        if s.substring in s.actualstring:\n",
    "            flag1 =0\n",
    "            count = 0            \n",
    "            for i in range(len(s.actualstring)):\n",
    "                if s.actualstring[i:len(s.substring)+i] == s.substring:\n",
    "                    count += 1\n",
    "                    if count == s.reps:\n",
    "                        count1 = 0\n",
    "                        count2 = 0\n",
    "                        for i in range(len(s.actualstring)):\n",
    "                            #print s.actualstring[i]\n",
    "                            #print newstring\n",
    "                            if flag1 == 0:\n",
    "                                if s.actualstring[i:len(s.substring)+i] == s.substring:\n",
    "                                    newstring += s.deststring\n",
    "                                    count1 +=1\n",
    "                                    i += len(s.substring)\n",
    "                                    flag1 = 1\n",
    "                                    if count1 == reps:\n",
    "                                        #print \"replaced reps times\"\n",
    "                                        break\n",
    "                                    else:\n",
    "                                        ### code need to be added for \n",
    "                                        continue\n",
    "                                else:\n",
    "                                    newstring += s.actualstring[i]\n",
    "                            if flag1==1:\n",
    "                                    #print \"skipping\"\n",
    "                                    count2 += 1\n",
    "                                    #print \"count2 \",count2\n",
    "                                    if count2 == len(s.substring)-1:\n",
    "                                        flag1 = 0\n",
    "                                        count2 =0\n",
    "                                        \n",
    "                            else:\n",
    "                                        continue\n",
    "                                    \n",
    "                                \n",
    "                        newstring += s.actualstring[i:]\n",
    "                        return newstring\n",
    "\n",
    "            else:\n",
    "                return \"{0} did not repeat {1} times in {2}\".format(s.substring,s.reps,s.actualstring)                \n",
    "                \n",
    "\n",
    "substring = \"Sagar\"\n",
    "actualstring = \"My name is Sagar, Hi Sagar, Hello Sagar, Wru Sagar, Hi Sagar\"\n",
    "deststring= \"gaddam\"\n",
    "reps=4\n",
    "\n",
    "str_ops1 = StringOps(substring,actualstring,deststring,reps)\n",
    "print \"replaced '{0}' with '{1}' {2} times in '{3}' and new string is '{4}'\".format(deststring,substring,reps,actualstring,str_ops1.replacestring())"
   ]
  },
  {
   "cell_type": "code",
   "execution_count": 81,
   "metadata": {
    "collapsed": false
   },
   "outputs": [
    {
     "name": "stdout",
     "output_type": "stream",
     "text": [
      "removed 'Sagar ' from 'My name is Sagar Gaddam' and new string is 'My name is Gaddam'\n"
     ]
    }
   ],
   "source": [
    "#79. WAP to remove substring from the given string without using replace function\n",
    "# This code removes only first occurences not all occurences as replace does\n",
    "class StringOperations():\n",
    "    \"\"\"\n",
    "    This class performs string operations\n",
    "    \"\"\"\n",
    "    def __init__(s,string1,substring):\n",
    "        s.string1 = string1\n",
    "        s.substring = substring\n",
    "    \n",
    "    def replace1(s):\n",
    "        string2 = \"\"\n",
    "        if s.substring in s.string1:\n",
    "            for i in range(len(s.string1)):\n",
    "                if s.string1[i:len(s.substring)+i] == s.substring:\n",
    "                    string2 += \"\"\n",
    "                    i += len(s.substring)\n",
    "                    break\n",
    "                else:\n",
    "                    string2 += s.string1[i]\n",
    "            string2 += s.string1[i:]\n",
    "            return string2\n",
    "        else:\n",
    "            return \"substring not found in actual string\"\n",
    "\n",
    "act_str = \"My name is Sagar Gaddam\"\n",
    "sub_str = \"Sagar \"\n",
    "str_op = StringOperations(act_str,sub_str)\n",
    "print \"removed '{0}' from '{1}' and new string is '{2}'\".format(sub_str,act_str,str_op.replace1())"
   ]
  },
  {
   "cell_type": "code",
   "execution_count": 44,
   "metadata": {
    "collapsed": false
   },
   "outputs": [
    {
     "name": "stdout",
     "output_type": "stream",
     "text": [
      "removed 'Sagar ' from 'My name is Sagar Gaddam, Hi Sagar Gaddam' and new string is 'My name is Gaddam, Hi Sagar Gaddam'\n"
     ]
    }
   ],
   "source": [
    "#79. WAP to remove substring from the given string without using replace function\n",
    "# the above code removes substring only once, this code should be modified to remove all occurences\n",
    "class StringOperations():\n",
    "    \"\"\"\n",
    "    This class performs string operations\n",
    "    \"\"\"\n",
    "    def __init__(s,string1,substring):\n",
    "        s.string1 = string1\n",
    "        s.substring = substring\n",
    "    \n",
    "    def replace1(s):\n",
    "        string2 = \"\"\n",
    "        if s.substring in s.string1:\n",
    "            for i in range(len(s.string1)):\n",
    "                if s.string1[i:len(s.substring)+i] == s.substring:\n",
    "                    string2 += \"\"\n",
    "                    i += len(s.substring)\n",
    "                    break\n",
    "                else:\n",
    "                    string2 += s.string1[i]\n",
    "            string2 += s.string1[i:]\n",
    "            return string2\n",
    "        else:\n",
    "            return \"substring not found in actual string\"\n",
    "\n",
    "act_str = \"My name is Sagar Gaddam, Hi Sagar Gaddam\"\n",
    "sub_str = \"Sagar \"\n",
    "str_op = StringOperations(act_str,sub_str)\n",
    "print \"removed '{0}' from '{1}' and new string is '{2}'\".format(sub_str,act_str,str_op.replace1())"
   ]
  },
  {
   "cell_type": "code",
   "execution_count": null,
   "metadata": {
    "collapsed": true
   },
   "outputs": [],
   "source": []
  },
  {
   "cell_type": "code",
   "execution_count": 39,
   "metadata": {
    "collapsed": false
   },
   "outputs": [
    {
     "name": "stdout",
     "output_type": "stream",
     "text": [
      "removed 'Sagar ' from 'My name is Sagar Gaddam, Sagar is gaddam  and Sagar is not moustache' and new string is 'My name is agar Gaddam, agar is gaddam  and is not moustache'\n"
     ]
    }
   ],
   "source": [
    "#79. WAP to remove substring from the given string without using replace function\n",
    "#use code from 78 program in 38 cell and re-write this\n",
    "class StringOperations():\n",
    "    \"\"\"\n",
    "    This class performs string operations\n",
    "    \"\"\"\n",
    "    def __init__(s,string1,substring):\n",
    "        s.string1 = string1\n",
    "        s.substring = substring\n",
    "    \n",
    "    def replace1(s):\n",
    "        string2 = \"\"\n",
    "        if s.substring in s.string1:\n",
    "            for i in range(len(s.string1)):\n",
    "                if s.string1[i:len(s.substring)+i] == s.substring:\n",
    "                    string2 += \"\"\n",
    "                    i += len(s.substring)\n",
    "                    if s.substring in s.string1[i:]:\n",
    "                        continue\n",
    "                    else:\n",
    "                        break        \n",
    "                else:\n",
    "                    string2 += s.string1[i]\n",
    "            string2 += s.string1[i:]\n",
    "            return string2\n",
    "        else:\n",
    "            return \"substring not found in actual string\"\n",
    "\n",
    "act_str = \"My name is Sagar Gaddam, Sagar is gaddam  and Sagar is not moustache\"\n",
    "sub_str = \"Sagar \"\n",
    "str_op = StringOperations(act_str,sub_str)\n",
    "print \"removed '{0}' from '{1}' and new string is '{2}'\".format(sub_str,act_str,str_op.replace1())"
   ]
  },
  {
   "cell_type": "code",
   "execution_count": null,
   "metadata": {
    "collapsed": true
   },
   "outputs": [],
   "source": []
  },
  {
   "cell_type": "code",
   "execution_count": 56,
   "metadata": {
    "collapsed": false
   },
   "outputs": [
    {
     "name": "stdout",
     "output_type": "stream",
     "text": [
      "New list after terminating 2 from [1, 2, 3, 4, 1, 2] is [1, 3, 4, 1] \n"
     ]
    }
   ],
   "source": [
    "\n",
    "#80  WAP to remove particular element from a given list for all occurancers\n",
    "\n",
    "class ElementRemover():\n",
    "    \"\"\"\n",
    "    This class removes all entries of given element from list1\n",
    "    \"\"\"\n",
    "    def __init__(s1,list1,entry):\n",
    "        s1.list1=list1\n",
    "        s1.entry=entry\n",
    "        \n",
    "    def terminator(s1):\n",
    "        list2= []\n",
    "        for i in s1.list1:\n",
    "            if s1.entry != i:\n",
    "                list2.append(i)\n",
    "        return list2\n",
    "\n",
    "list1=[1,2,3,4,1,2]\n",
    "entry=2\n",
    "ele_rem = ElementRemover(list1,entry)\n",
    "print \"New list after terminating {0} from {1} is {2} \".format(entry,list1,ele_rem.terminator())"
   ]
  },
  {
   "cell_type": "code",
   "execution_count": 33,
   "metadata": {
    "collapsed": false
   },
   "outputs": [
    {
     "name": "stdout",
     "output_type": "stream",
     "text": [
      "{'age': 26, 'name': 'sagar', 'id': 34}\n"
     ]
    }
   ],
   "source": [
    "#81. take two lists keys, values and form a dictionary\n",
    "class CreateDict():\n",
    "    \"\"\"\n",
    "    This class creates a dictionary using two lists (keys and values)\n",
    "    \"\"\"\n",
    "    def __init__(s1,list1,list2):\n",
    "        s1.keys = list1\n",
    "        s1.values = list2\n",
    "        \n",
    "    def listtodict(s1):\n",
    "        dict1 = {}\n",
    "        for i in range(len(s1.keys)):\n",
    "            dict1[s1.keys[i]] = s1.values[i]\n",
    "        return dict1\n",
    "\n",
    "list1 = [\"name\",\"age\",\"id\"]\n",
    "list2 = [\"sagar\",26,34]\n",
    "dict1 = CreateDict(list1,list2)\n",
    "print dict1.listtodict()"
   ]
  },
  {
   "cell_type": "code",
   "execution_count": null,
   "metadata": {
    "collapsed": true
   },
   "outputs": [],
   "source": []
  },
  {
   "cell_type": "code",
   "execution_count": null,
   "metadata": {
    "collapsed": true
   },
   "outputs": [],
   "source": [
    "#82. delete more than one key value pair at a time.\n",
    "class "
   ]
  },
  {
   "cell_type": "code",
   "execution_count": 30,
   "metadata": {
    "collapsed": false
   },
   "outputs": [
    {
     "name": "stdout",
     "output_type": "stream",
     "text": [
      "unioin of [1, 2, 3, 4, 2, 1, 7] and [2, 3, 5, 1, 6, 7] is [1, 2, 3, 4, 7, 5, 6]\n",
      "intersection of [1, 2, 3, 4, 2, 1, 7] and [2, 3, 5, 1, 6, 7] is [1, 2, 3, 7]\n",
      "difference of [1, 2, 3, 4, 2, 1, 7] and [2, 3, 5, 1, 6, 7] is [4, 5, 6]\n"
     ]
    }
   ],
   "source": [
    "#83. find out intersection, union, difference of two list without/with using set\n",
    "class ListOps():\n",
    "    \"\"\"This class can perform list operations like intersection,union,difference\"\"\"\n",
    "    def __init__(s1,list1,list2):\n",
    "        s1.list1 = list1\n",
    "        s1.list2 = list2\n",
    "        \n",
    "    def union1(s1):\n",
    "        \"\"\"\"\"\"\n",
    "        list3 = []\n",
    "        for i in s1.list1:\n",
    "            if i not in list3:\n",
    "                list3.append(i)\n",
    "        for j in s1.list2:\n",
    "            if j not in list3:\n",
    "                list3.append(j)\n",
    "        return list3\n",
    "    \n",
    "    def intersection(s1):\n",
    "        list3 = []\n",
    "        for i in s1.list1:\n",
    "            if i in s1.list2 and i not in list3:\n",
    "                list3.append(i)\n",
    "        return list3\n",
    "    \n",
    "    def difference(s1):\n",
    "        list3 = []\n",
    "        for i in s1.list1:\n",
    "            if i not in s1.list2 and i not in list3:\n",
    "                list3.append(i)\n",
    "        for j in s1.list2:\n",
    "            if j not in s1.list1 and j not in list3:\n",
    "                list3.append(j)\n",
    "        return list3\n",
    "    \n",
    "list1 = [1,2,3,4,2,1,7]\n",
    "list2 = [2,3,5,1,6,7]\n",
    "\n",
    "listopsclass = ListOps(list1,list2)\n",
    "print \"unioin of {0} and {1} is {2}\".format(list1,list2,listopsclass.union1())\n",
    "print \"intersection of {0} and {1} is {2}\".format(list1,list2,listopsclass.intersection())\n",
    "print \"difference of {0} and {1} is {2}\".format(list1,list2,listopsclass.difference())"
   ]
  },
  {
   "cell_type": "code",
   "execution_count": 1,
   "metadata": {
    "collapsed": true
   },
   "outputs": [],
   "source": [
    "#84.WAP to create, modify, delete, browse lun in xtremeio array using xtremeio api."
   ]
  },
  {
   "cell_type": "code",
   "execution_count": 2,
   "metadata": {
    "collapsed": true
   },
   "outputs": [],
   "source": [
    "#85. WAP to create, modify, delete, browse lun in any array using paramiko module."
   ]
  },
  {
   "cell_type": "code",
   "execution_count": null,
   "metadata": {
    "collapsed": true
   },
   "outputs": [],
   "source": [
    "#86. WAP to collect all directors from vplex and reboot one director from that using VATS Frame work\n",
    " "
   ]
  }
 ],
 "metadata": {
  "kernelspec": {
   "display_name": "Python 2",
   "language": "python",
   "name": "python2"
  },
  "language_info": {
   "codemirror_mode": {
    "name": "ipython",
    "version": 2
   },
   "file_extension": ".py",
   "mimetype": "text/x-python",
   "name": "python",
   "nbconvert_exporter": "python",
   "pygments_lexer": "ipython2",
   "version": "2.7.13"
  }
 },
 "nbformat": 4,
 "nbformat_minor": 2
}
