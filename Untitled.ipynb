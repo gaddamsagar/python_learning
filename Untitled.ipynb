{
 "cells": [
  {
   "cell_type": "code",
   "execution_count": 2,
   "metadata": {
    "collapsed": false
   },
   "outputs": [
    {
     "name": "stdout",
     "output_type": "stream",
     "text": [
      "['', 'C:\\\\ProgramData\\\\Anaconda2\\\\python27.zip', 'C:\\\\ProgramData\\\\Anaconda2\\\\DLLs', 'C:\\\\ProgramData\\\\Anaconda2\\\\lib', 'C:\\\\ProgramData\\\\Anaconda2\\\\lib\\\\plat-win', 'C:\\\\ProgramData\\\\Anaconda2\\\\lib\\\\lib-tk', 'C:\\\\ProgramData\\\\Anaconda2', 'C:\\\\ProgramData\\\\Anaconda2\\\\lib\\\\site-packages', 'C:\\\\ProgramData\\\\Anaconda2\\\\lib\\\\site-packages\\\\Sphinx-1.5.1-py2.7.egg', 'C:\\\\ProgramData\\\\Anaconda2\\\\lib\\\\site-packages\\\\win32', 'C:\\\\ProgramData\\\\Anaconda2\\\\lib\\\\site-packages\\\\win32\\\\lib', 'C:\\\\ProgramData\\\\Anaconda2\\\\lib\\\\site-packages\\\\Pythonwin', 'C:\\\\ProgramData\\\\Anaconda2\\\\lib\\\\site-packages\\\\setuptools-27.2.0-py2.7.egg', 'C:\\\\ProgramData\\\\Anaconda2\\\\lib\\\\site-packages\\\\IPython\\\\extensions', 'C:\\\\Users\\\\lenovo\\\\.ipython']\n"
     ]
    }
   ],
   "source": [
    "import sys\n",
    "print sys.path"
   ]
  },
  {
   "cell_type": "code",
   "execution_count": null,
   "metadata": {
    "collapsed": true
   },
   "outputs": [],
   "source": []
  },
  {
   "cell_type": "code",
   "execution_count": null,
   "metadata": {
    "collapsed": true
   },
   "outputs": [],
   "source": []
  }
 ],
 "metadata": {
  "kernelspec": {
   "display_name": "Python 2",
   "language": "python",
   "name": "python2"
  },
  "language_info": {
   "codemirror_mode": {
    "name": "ipython",
    "version": 2
   },
   "file_extension": ".py",
   "mimetype": "text/x-python",
   "name": "python",
   "nbconvert_exporter": "python",
   "pygments_lexer": "ipython2",
   "version": "2.7.13"
  }
 },
 "nbformat": 4,
 "nbformat_minor": 2
}
