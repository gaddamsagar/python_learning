{
 "cells": [
  {
   "cell_type": "code",
   "execution_count": 1,
   "metadata": {
    "collapsed": true
   },
   "outputs": [],
   "source": [
    "#1.write a program to , if first letter of a word is alphabet then convert itnto uppercase, \n",
    "#if it is number it shouldn't convert the next alphabet as istitle does\n",
    "\n",
    "#2.WAP to findout if the given string contains capital letters or not using for-else block\n",
    "\n",
    "#3.WAP to replace a source sub string with a given stirng only number of occurences user \n",
    "#specifies, not like replace which replaces all the occurences\n",
    "\n",
    "#read about translate in string\n",
    "\n",
    "#read all list functions before next class and do all the assignments in ssignments text\n",
    "\n",
    "#decode, encode, count, isupper, islower, isalpha, isalnum, center, istitle,\n",
    "#format\n",
    "\n",
    "#no remove, len, max, min, append, pop, push for strings"
   ]
  },
  {
   "cell_type": "code",
   "execution_count": 2,
   "metadata": {
    "collapsed": false
   },
   "outputs": [
    {
     "name": "stdout",
     "output_type": "stream",
     "text": [
      "Name : sagar, Age: 25, Hieght: 5.9\n"
     ]
    }
   ],
   "source": [
    "#format\n",
    "\n",
    "name = \"sagar\"\n",
    "Age = 25\n",
    "Height = 5.9\n",
    "\n",
    "result = \"Name : {0}, Age: {1}, Hieght: {2}\".format(name,Age,Height)\n",
    "print result\n"
   ]
  },
  {
   "cell_type": "code",
   "execution_count": 3,
   "metadata": {
    "collapsed": false
   },
   "outputs": [
    {
     "name": "stdout",
     "output_type": "stream",
     "text": [
      "Name : sagar, Age: 25, Hieght: 5.9\n"
     ]
    }
   ],
   "source": [
    "#format\n",
    "\n",
    "name = \"sagar\"\n",
    "Age = 25\n",
    "Height = 5.9\n",
    "\n",
    "result = \"Name : {1}, Age: {0}, Hieght: {2}\".format(Age,name,Height)\n",
    "print result\n"
   ]
  },
  {
   "cell_type": "code",
   "execution_count": 5,
   "metadata": {
    "collapsed": false
   },
   "outputs": [
    {
     "name": "stdout",
     "output_type": "stream",
     "text": [
      "Name : sagar, Age: 25, Hieght: 5.900\n"
     ]
    }
   ],
   "source": [
    "#format\n",
    "\n",
    "name = \"sagar\"\n",
    "Age = 25\n",
    "Height = 5.9\n",
    "\n",
    "result = \"Name : {1}, Age: {0}, Hieght: {2:.3f}\".format(Age,name,Height)\n",
    "print result\n"
   ]
  },
  {
   "cell_type": "code",
   "execution_count": null,
   "metadata": {
    "collapsed": true
   },
   "outputs": [],
   "source": [
    "#"
   ]
  },
  {
   "cell_type": "code",
   "execution_count": null,
   "metadata": {
    "collapsed": true
   },
   "outputs": [],
   "source": []
  }
 ],
 "metadata": {
  "kernelspec": {
   "display_name": "Python 2",
   "language": "python",
   "name": "python2"
  },
  "language_info": {
   "codemirror_mode": {
    "name": "ipython",
    "version": 2
   },
   "file_extension": ".py",
   "mimetype": "text/x-python",
   "name": "python",
   "nbconvert_exporter": "python",
   "pygments_lexer": "ipython2",
   "version": "2.7.13"
  }
 },
 "nbformat": 4,
 "nbformat_minor": 2
}
